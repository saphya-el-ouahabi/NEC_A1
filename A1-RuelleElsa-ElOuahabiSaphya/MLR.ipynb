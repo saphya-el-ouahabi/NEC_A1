{
 "cells": [
  {
   "cell_type": "markdown",
   "metadata": {},
   "source": [
    "### IMPORT"
   ]
  },
  {
   "cell_type": "code",
   "execution_count": 41,
   "metadata": {},
   "outputs": [],
   "source": [
    "# importing pandas\n",
    "import pandas as pd\n",
    "# importing train_test_split from sklearn\n",
    "from sklearn.model_selection import train_test_split\n",
    "# importing module\n",
    "from sklearn.linear_model import LinearRegression\n",
    "# importing r2_score module\n",
    "from sklearn.metrics import r2_score\n",
    "from sklearn.metrics import mean_squared_error\n",
    "import numpy as np\n",
    "from sklearn.model_selection import cross_val_score\n",
    "import matplotlib.pyplot as plt"
   ]
  },
  {
   "cell_type": "markdown",
   "metadata": {},
   "source": [
    "# Dataset A1-turbine"
   ]
  },
  {
   "cell_type": "code",
   "execution_count": 42,
   "metadata": {},
   "outputs": [
    {
     "data": {
      "text/html": [
       "<div>\n",
       "<style scoped>\n",
       "    .dataframe tbody tr th:only-of-type {\n",
       "        vertical-align: middle;\n",
       "    }\n",
       "\n",
       "    .dataframe tbody tr th {\n",
       "        vertical-align: top;\n",
       "    }\n",
       "\n",
       "    .dataframe thead th {\n",
       "        text-align: right;\n",
       "    }\n",
       "</style>\n",
       "<table border=\"1\" class=\"dataframe\">\n",
       "  <thead>\n",
       "    <tr style=\"text-align: right;\">\n",
       "      <th></th>\n",
       "      <th>#height_over_sea_level</th>\n",
       "      <th>fall</th>\n",
       "      <th>net_fall</th>\n",
       "      <th>flow</th>\n",
       "      <th>power_of_hydroelectrical_turbine</th>\n",
       "    </tr>\n",
       "  </thead>\n",
       "  <tbody>\n",
       "    <tr>\n",
       "      <th>0</th>\n",
       "      <td>624.0</td>\n",
       "      <td>89.16</td>\n",
       "      <td>89.765</td>\n",
       "      <td>3.5</td>\n",
       "      <td>2512.85</td>\n",
       "    </tr>\n",
       "    <tr>\n",
       "      <th>1</th>\n",
       "      <td>628.0</td>\n",
       "      <td>93.16</td>\n",
       "      <td>93.765</td>\n",
       "      <td>3.5</td>\n",
       "      <td>2583.79</td>\n",
       "    </tr>\n",
       "    <tr>\n",
       "      <th>2</th>\n",
       "      <td>602.0</td>\n",
       "      <td>67.84</td>\n",
       "      <td>66.415</td>\n",
       "      <td>6.5</td>\n",
       "      <td>3748.77</td>\n",
       "    </tr>\n",
       "    <tr>\n",
       "      <th>3</th>\n",
       "      <td>599.0</td>\n",
       "      <td>64.84</td>\n",
       "      <td>63.415</td>\n",
       "      <td>6.5</td>\n",
       "      <td>3520.65</td>\n",
       "    </tr>\n",
       "    <tr>\n",
       "      <th>4</th>\n",
       "      <td>630.0</td>\n",
       "      <td>94.69</td>\n",
       "      <td>93.540</td>\n",
       "      <td>8.0</td>\n",
       "      <td>6673.84</td>\n",
       "    </tr>\n",
       "    <tr>\n",
       "      <th>...</th>\n",
       "      <td>...</td>\n",
       "      <td>...</td>\n",
       "      <td>...</td>\n",
       "      <td>...</td>\n",
       "      <td>...</td>\n",
       "    </tr>\n",
       "    <tr>\n",
       "      <th>446</th>\n",
       "      <td>605.0</td>\n",
       "      <td>71.10</td>\n",
       "      <td>70.550</td>\n",
       "      <td>4.0</td>\n",
       "      <td>2337.68</td>\n",
       "    </tr>\n",
       "    <tr>\n",
       "      <th>447</th>\n",
       "      <td>621.0</td>\n",
       "      <td>85.59</td>\n",
       "      <td>83.840</td>\n",
       "      <td>9.0</td>\n",
       "      <td>6451.24</td>\n",
       "    </tr>\n",
       "    <tr>\n",
       "      <th>448</th>\n",
       "      <td>607.0</td>\n",
       "      <td>71.69</td>\n",
       "      <td>70.540</td>\n",
       "      <td>8.0</td>\n",
       "      <td>4806.83</td>\n",
       "    </tr>\n",
       "    <tr>\n",
       "      <th>449</th>\n",
       "      <td>612.0</td>\n",
       "      <td>76.84</td>\n",
       "      <td>76.415</td>\n",
       "      <td>6.5</td>\n",
       "      <td>4450.58</td>\n",
       "    </tr>\n",
       "    <tr>\n",
       "      <th>450</th>\n",
       "      <td>610.0</td>\n",
       "      <td>75.04</td>\n",
       "      <td>75.365</td>\n",
       "      <td>4.5</td>\n",
       "      <td>2893.53</td>\n",
       "    </tr>\n",
       "  </tbody>\n",
       "</table>\n",
       "<p>451 rows × 5 columns</p>\n",
       "</div>"
      ],
      "text/plain": [
       "     #height_over_sea_level   fall  net_fall  flow  \\\n",
       "0                     624.0  89.16    89.765   3.5   \n",
       "1                     628.0  93.16    93.765   3.5   \n",
       "2                     602.0  67.84    66.415   6.5   \n",
       "3                     599.0  64.84    63.415   6.5   \n",
       "4                     630.0  94.69    93.540   8.0   \n",
       "..                      ...    ...       ...   ...   \n",
       "446                   605.0  71.10    70.550   4.0   \n",
       "447                   621.0  85.59    83.840   9.0   \n",
       "448                   607.0  71.69    70.540   8.0   \n",
       "449                   612.0  76.84    76.415   6.5   \n",
       "450                   610.0  75.04    75.365   4.5   \n",
       "\n",
       "     power_of_hydroelectrical_turbine  \n",
       "0                             2512.85  \n",
       "1                             2583.79  \n",
       "2                             3748.77  \n",
       "3                             3520.65  \n",
       "4                             6673.84  \n",
       "..                                ...  \n",
       "446                           2337.68  \n",
       "447                           6451.24  \n",
       "448                           4806.83  \n",
       "449                           4450.58  \n",
       "450                           2893.53  \n",
       "\n",
       "[451 rows x 5 columns]"
      ]
     },
     "execution_count": 42,
     "metadata": {},
     "output_type": "execute_result"
    }
   ],
   "source": [
    "df1 = pd.read_csv('A1-turbine.txt', sep='\\t')\n",
    "df1"
   ]
  },
  {
   "cell_type": "markdown",
   "metadata": {},
   "source": [
    "### Creation of training and test datasets"
   ]
  },
  {
   "cell_type": "code",
   "execution_count": 43,
   "metadata": {},
   "outputs": [],
   "source": [
    "#separate the other attributes from the predicting attribute\n",
    "x1 = df1.drop('power_of_hydroelectrical_turbine', axis=1)\n",
    "#separte the predicting attribute into Y for model training \n",
    "y1 = df1['power_of_hydroelectrical_turbine']"
   ]
  },
  {
   "cell_type": "code",
   "execution_count": 44,
   "metadata": {},
   "outputs": [],
   "source": [
    "# splitting the data\n",
    "x1_train, x1_test, y1_train, y1_test = train_test_split(x1, y1, test_size = 0.15, random_state=42)"
   ]
  },
  {
   "cell_type": "markdown",
   "metadata": {},
   "source": [
    "### Prediction"
   ]
  },
  {
   "cell_type": "code",
   "execution_count": 45,
   "metadata": {},
   "outputs": [
    {
     "data": {
      "text/plain": [
       "LinearRegression(copy_X=True, fit_intercept=True, n_jobs=None, normalize=False)"
      ]
     },
     "execution_count": 45,
     "metadata": {},
     "output_type": "execute_result"
    }
   ],
   "source": [
    "# creating an object of LinearRegression class\n",
    "LR1 = LinearRegression()\n",
    "# fitting the training data\n",
    "LR1.fit(x1_train,y1_train)"
   ]
  },
  {
   "cell_type": "code",
   "execution_count": 46,
   "metadata": {},
   "outputs": [
    {
     "data": {
      "text/plain": [
       "array([6006.64359167, 3755.90775124, 4919.19788592, 5236.45824028,\n",
       "       2798.36478865, 5450.76629627, 2834.26324531, 3577.62155017,\n",
       "       5105.72334399, 3861.32492281, 2534.82185974, 5024.61505748,\n",
       "       4418.43859251, 3524.91296439, 2465.30314484, 4234.71428752,\n",
       "       3791.45810092, 4629.27293564, 5419.90172235, 2482.11327396,\n",
       "       3466.03825793, 5421.97485868, 3419.49579282, 3202.49532903,\n",
       "       5239.93195314, 5580.10061602, 4265.83537295, 5584.97490542,\n",
       "       4023.15192764, 4423.9611303 , 5131.04106872, 6164.76934901,\n",
       "       6059.35217745, 4076.58853017, 5316.55768712, 2735.10444783,\n",
       "       3439.31995666, 2886.24381434, 1281.94481984, 6375.60369214,\n",
       "       4107.70961561, 4548.60967428, 3475.20658624, 2851.07337443,\n",
       "       4160.41820139, 6481.0208637 , 3391.37691502, 6294.10366877,\n",
       "       4529.37830186, 4681.98152142, 4075.86051342, 5366.85685668,\n",
       "       5896.35213071, 1492.77916297, 3702.86288557, 3738.74951514,\n",
       "       2149.05163016, 3208.6614497 , 4523.85576408, 3914.03350859,\n",
       "       1964.49050726, 2840.52161939, 3527.91517202, 5345.34912471,\n",
       "       1229.23623406, 5848.51783433, 5661.60063939, 6452.22942611])"
      ]
     },
     "execution_count": 46,
     "metadata": {},
     "output_type": "execute_result"
    }
   ],
   "source": [
    "y1_prediction =  LR1.predict(x1_test)\n",
    "y1_prediction"
   ]
  },
  {
   "cell_type": "markdown",
   "metadata": {},
   "source": [
    "### Cross validation"
   ]
  },
  {
   "cell_type": "code",
   "execution_count": 47,
   "metadata": {
    "scrolled": false
   },
   "outputs": [
    {
     "data": {
      "text/plain": [
       "array([0.97489236, 0.97894676, 0.96153066, 0.97012587, 0.97335748])"
      ]
     },
     "execution_count": 47,
     "metadata": {},
     "output_type": "execute_result"
    }
   ],
   "source": [
    "scores1 = cross_val_score(LR1, x1, y1, cv=5)\n",
    "scores1"
   ]
  },
  {
   "cell_type": "code",
   "execution_count": 48,
   "metadata": {},
   "outputs": [
    {
     "name": "stdout",
     "output_type": "stream",
     "text": [
      "0.97 accuracy with a standard deviation of 0.01\n"
     ]
    }
   ],
   "source": [
    "print(\"%0.2f accuracy with a standard deviation of %0.2f\" % (scores1.mean(), scores1.std()))"
   ]
  },
  {
   "cell_type": "markdown",
   "metadata": {},
   "source": [
    "### Relative Absolute Error"
   ]
  },
  {
   "cell_type": "code",
   "execution_count": 49,
   "metadata": {},
   "outputs": [
    {
     "name": "stdout",
     "output_type": "stream",
     "text": [
      "Error rate MLR :  3.6115095266319632 %\n"
     ]
    }
   ],
   "source": [
    "error_rate1 = 100 * ((sum(abs(y1_prediction-y1_test)))/sum(y1_test));\n",
    "print(\"Error rate MLR : \",error_rate1 , \"%\")"
   ]
  },
  {
   "cell_type": "markdown",
   "metadata": {},
   "source": [
    "### Creation of the Dataset"
   ]
  },
  {
   "cell_type": "code",
   "execution_count": 50,
   "metadata": {},
   "outputs": [],
   "source": [
    "dataset1 = pd.DataFrame({'prediction' : y1_prediction, 'real_value' : y1_test})"
   ]
  },
  {
   "cell_type": "code",
   "execution_count": 51,
   "metadata": {},
   "outputs": [],
   "source": [
    "dataset1.to_csv('A1-turbine_Results.csv',index=False)"
   ]
  },
  {
   "cell_type": "code",
   "execution_count": 52,
   "metadata": {},
   "outputs": [
    {
     "data": {
      "text/plain": [
       "<matplotlib.collections.PathCollection at 0x2b4fbb1c748>"
      ]
     },
     "execution_count": 52,
     "metadata": {},
     "output_type": "execute_result"
    },
    {
     "data": {
      "image/png": "[encoded data removed]",
      "text/plain": [
       "<Figure size 432x288 with 1 Axes>"
      ]
     },
     "metadata": {
      "needs_background": "light"
     },
     "output_type": "display_data"
    }
   ],
   "source": [
    "plt.scatter(y1_prediction,y1_test)"
   ]
  },
  {
   "cell_type": "markdown",
   "metadata": {},
   "source": [
    "# Dataset A1-synthetic"
   ]
  },
  {
   "cell_type": "code",
   "execution_count": 12,
   "metadata": {},
   "outputs": [
    {
     "data": {
      "text/html": [
       "<div>\n",
       "<style scoped>\n",
       "    .dataframe tbody tr th:only-of-type {\n",
       "        vertical-align: middle;\n",
       "    }\n",
       "\n",
       "    .dataframe tbody tr th {\n",
       "        vertical-align: top;\n",
       "    }\n",
       "\n",
       "    .dataframe thead th {\n",
       "        text-align: right;\n",
       "    }\n",
       "</style>\n",
       "<table border=\"1\" class=\"dataframe\">\n",
       "  <thead>\n",
       "    <tr style=\"text-align: right;\">\n",
       "      <th></th>\n",
       "      <th>#v1</th>\n",
       "      <th>v2</th>\n",
       "      <th>v3</th>\n",
       "      <th>v4</th>\n",
       "      <th>v5</th>\n",
       "      <th>v6</th>\n",
       "      <th>v7</th>\n",
       "      <th>v8</th>\n",
       "      <th>v9</th>\n",
       "      <th>z</th>\n",
       "    </tr>\n",
       "  </thead>\n",
       "  <tbody>\n",
       "    <tr>\n",
       "      <th>0</th>\n",
       "      <td>37.344110</td>\n",
       "      <td>10.542156</td>\n",
       "      <td>0.969185</td>\n",
       "      <td>3.568534</td>\n",
       "      <td>96.798733</td>\n",
       "      <td>3.429026</td>\n",
       "      <td>75.810196</td>\n",
       "      <td>0</td>\n",
       "      <td>20.002459</td>\n",
       "      <td>11.805369</td>\n",
       "    </tr>\n",
       "    <tr>\n",
       "      <th>1</th>\n",
       "      <td>4.089849</td>\n",
       "      <td>11.894301</td>\n",
       "      <td>0.467775</td>\n",
       "      <td>1.279044</td>\n",
       "      <td>100.149383</td>\n",
       "      <td>3.190073</td>\n",
       "      <td>76.423095</td>\n",
       "      <td>0</td>\n",
       "      <td>12.702628</td>\n",
       "      <td>5.125025</td>\n",
       "    </tr>\n",
       "    <tr>\n",
       "      <th>2</th>\n",
       "      <td>-32.333439</td>\n",
       "      <td>10.968631</td>\n",
       "      <td>0.238486</td>\n",
       "      <td>1.410745</td>\n",
       "      <td>100.642074</td>\n",
       "      <td>3.093934</td>\n",
       "      <td>78.758727</td>\n",
       "      <td>1</td>\n",
       "      <td>10.723848</td>\n",
       "      <td>3.218553</td>\n",
       "    </tr>\n",
       "    <tr>\n",
       "      <th>3</th>\n",
       "      <td>-45.632977</td>\n",
       "      <td>11.509606</td>\n",
       "      <td>0.924938</td>\n",
       "      <td>3.404069</td>\n",
       "      <td>105.963016</td>\n",
       "      <td>2.884269</td>\n",
       "      <td>83.027750</td>\n",
       "      <td>0</td>\n",
       "      <td>19.946593</td>\n",
       "      <td>12.955092</td>\n",
       "    </tr>\n",
       "    <tr>\n",
       "      <th>4</th>\n",
       "      <td>-41.543394</td>\n",
       "      <td>10.117186</td>\n",
       "      <td>0.315180</td>\n",
       "      <td>1.020120</td>\n",
       "      <td>97.371423</td>\n",
       "      <td>2.815820</td>\n",
       "      <td>77.194463</td>\n",
       "      <td>0</td>\n",
       "      <td>11.105024</td>\n",
       "      <td>1.919094</td>\n",
       "    </tr>\n",
       "    <tr>\n",
       "      <th>...</th>\n",
       "      <td>...</td>\n",
       "      <td>...</td>\n",
       "      <td>...</td>\n",
       "      <td>...</td>\n",
       "      <td>...</td>\n",
       "      <td>...</td>\n",
       "      <td>...</td>\n",
       "      <td>...</td>\n",
       "      <td>...</td>\n",
       "      <td>...</td>\n",
       "    </tr>\n",
       "    <tr>\n",
       "      <th>995</th>\n",
       "      <td>3.792427</td>\n",
       "      <td>10.567199</td>\n",
       "      <td>0.912737</td>\n",
       "      <td>3.909415</td>\n",
       "      <td>98.701308</td>\n",
       "      <td>3.222058</td>\n",
       "      <td>77.648206</td>\n",
       "      <td>0</td>\n",
       "      <td>18.903414</td>\n",
       "      <td>11.265913</td>\n",
       "    </tr>\n",
       "    <tr>\n",
       "      <th>996</th>\n",
       "      <td>-15.036910</td>\n",
       "      <td>11.639085</td>\n",
       "      <td>0.988515</td>\n",
       "      <td>3.202736</td>\n",
       "      <td>107.622269</td>\n",
       "      <td>3.236556</td>\n",
       "      <td>84.364686</td>\n",
       "      <td>0</td>\n",
       "      <td>21.473280</td>\n",
       "      <td>15.061569</td>\n",
       "    </tr>\n",
       "    <tr>\n",
       "      <th>997</th>\n",
       "      <td>3.448645</td>\n",
       "      <td>10.819087</td>\n",
       "      <td>0.798970</td>\n",
       "      <td>3.763737</td>\n",
       "      <td>100.801840</td>\n",
       "      <td>2.326508</td>\n",
       "      <td>79.251359</td>\n",
       "      <td>0</td>\n",
       "      <td>17.006395</td>\n",
       "      <td>11.029825</td>\n",
       "    </tr>\n",
       "    <tr>\n",
       "      <th>998</th>\n",
       "      <td>44.874246</td>\n",
       "      <td>10.272157</td>\n",
       "      <td>0.061187</td>\n",
       "      <td>1.267862</td>\n",
       "      <td>99.931950</td>\n",
       "      <td>2.979643</td>\n",
       "      <td>79.454761</td>\n",
       "      <td>0</td>\n",
       "      <td>10.138457</td>\n",
       "      <td>1.580719</td>\n",
       "    </tr>\n",
       "    <tr>\n",
       "      <th>999</th>\n",
       "      <td>19.611066</td>\n",
       "      <td>11.990251</td>\n",
       "      <td>0.200811</td>\n",
       "      <td>1.178237</td>\n",
       "      <td>99.683310</td>\n",
       "      <td>2.620652</td>\n",
       "      <td>75.754955</td>\n",
       "      <td>0</td>\n",
       "      <td>10.583506</td>\n",
       "      <td>3.665128</td>\n",
       "    </tr>\n",
       "  </tbody>\n",
       "</table>\n",
       "<p>1000 rows × 10 columns</p>\n",
       "</div>"
      ],
      "text/plain": [
       "           #v1         v2        v3        v4          v5        v6  \\\n",
       "0    37.344110  10.542156  0.969185  3.568534   96.798733  3.429026   \n",
       "1     4.089849  11.894301  0.467775  1.279044  100.149383  3.190073   \n",
       "2   -32.333439  10.968631  0.238486  1.410745  100.642074  3.093934   \n",
       "3   -45.632977  11.509606  0.924938  3.404069  105.963016  2.884269   \n",
       "4   -41.543394  10.117186  0.315180  1.020120   97.371423  2.815820   \n",
       "..         ...        ...       ...       ...         ...       ...   \n",
       "995   3.792427  10.567199  0.912737  3.909415   98.701308  3.222058   \n",
       "996 -15.036910  11.639085  0.988515  3.202736  107.622269  3.236556   \n",
       "997   3.448645  10.819087  0.798970  3.763737  100.801840  2.326508   \n",
       "998  44.874246  10.272157  0.061187  1.267862   99.931950  2.979643   \n",
       "999  19.611066  11.990251  0.200811  1.178237   99.683310  2.620652   \n",
       "\n",
       "            v7  v8         v9          z  \n",
       "0    75.810196   0  20.002459  11.805369  \n",
       "1    76.423095   0  12.702628   5.125025  \n",
       "2    78.758727   1  10.723848   3.218553  \n",
       "3    83.027750   0  19.946593  12.955092  \n",
       "4    77.194463   0  11.105024   1.919094  \n",
       "..         ...  ..        ...        ...  \n",
       "995  77.648206   0  18.903414  11.265913  \n",
       "996  84.364686   0  21.473280  15.061569  \n",
       "997  79.251359   0  17.006395  11.029825  \n",
       "998  79.454761   0  10.138457   1.580719  \n",
       "999  75.754955   0  10.583506   3.665128  \n",
       "\n",
       "[1000 rows x 10 columns]"
      ]
     },
     "execution_count": 12,
     "metadata": {},
     "output_type": "execute_result"
    }
   ],
   "source": [
    "df2 = pd.read_csv('A1-synthetic.txt', sep='\\t')\n",
    "df2"
   ]
  },
  {
   "cell_type": "markdown",
   "metadata": {},
   "source": [
    "### Creation of training and test datasets"
   ]
  },
  {
   "cell_type": "code",
   "execution_count": 13,
   "metadata": {},
   "outputs": [],
   "source": [
    "#separate the other attributes from the predicting attribute\n",
    "x2 = df2.drop('z', axis=1)\n",
    "#separte the predicting attribute into Y for model training \n",
    "y2 = df2['z']"
   ]
  },
  {
   "cell_type": "code",
   "execution_count": 14,
   "metadata": {},
   "outputs": [],
   "source": [
    "# splitting the data\n",
    "x2_train, x2_test, y2_train, y2_test = train_test_split(x2, y2, test_size = 0.2, random_state=42)"
   ]
  },
  {
   "cell_type": "markdown",
   "metadata": {},
   "source": [
    "### Prediction"
   ]
  },
  {
   "cell_type": "code",
   "execution_count": 15,
   "metadata": {},
   "outputs": [
    {
     "data": {
      "text/plain": [
       "LinearRegression(copy_X=True, fit_intercept=True, n_jobs=None, normalize=False)"
      ]
     },
     "execution_count": 15,
     "metadata": {},
     "output_type": "execute_result"
    }
   ],
   "source": [
    "# creating an object of LinearRegression class\n",
    "LR2 = LinearRegression()\n",
    "# fitting the training data\n",
    "LR2.fit(x2_train,y2_train)"
   ]
  },
  {
   "cell_type": "code",
   "execution_count": 16,
   "metadata": {},
   "outputs": [
    {
     "data": {
      "text/plain": [
       "array([ 7.39991214,  3.56951761,  3.20559574, 14.2419913 ,  3.21646823,\n",
       "       12.91723843, 14.06445299,  3.19953733,  8.07077154,  7.50225568,\n",
       "        8.52411306, 12.31139347,  0.99222533,  8.95939896, 13.0210878 ,\n",
       "        6.77379705, 11.04859771, 13.74923511,  7.63194176,  3.34818779,\n",
       "        4.92521511,  2.02208176, 10.1635507 ,  2.88378399,  6.11991475,\n",
       "        8.70111258,  2.24287424, 12.22127391,  1.50704127, 14.84772316,\n",
       "       12.41166841,  3.33777851,  2.74614364,  7.66156827,  5.33302555,\n",
       "        2.5641576 ,  2.99460066,  8.88678528,  8.08124781,  4.16640299,\n",
       "        2.60392291,  6.24340357,  6.59999409, 11.92205633,  4.265465  ,\n",
       "        7.60996761,  2.99791115,  2.42236628, 10.74685094, 11.73790288,\n",
       "        6.62253004,  9.34134346, 11.00795357,  4.75899318,  5.63361677,\n",
       "        2.18705024,  4.07388088,  3.66968525,  8.30340001, 14.48312018,\n",
       "        3.79762604,  1.83905311, 10.24007857,  5.76481639,  9.56031192,\n",
       "        3.21701442,  1.61607751,  4.09407281,  8.51337364,  8.06562247,\n",
       "       12.45236442,  3.99444622, 13.71786762,  5.00006217,  4.04519824,\n",
       "        7.44074267,  2.56444537, 11.5183783 ,  2.88487005,  3.80602851,\n",
       "       10.12334987,  7.6194515 ,  3.6007211 ,  5.49025058,  8.24717423,\n",
       "        3.73742708,  1.0058697 ,  7.77775458,  7.35281972, 10.20055021,\n",
       "        5.65718989,  2.97158773,  3.43231865,  6.84552063, 10.2260557 ,\n",
       "        7.2685774 , 13.83409808,  8.24885868,  6.75107343,  4.19826856,\n",
       "        3.19206242,  9.08856726,  2.98428822, 10.81267726,  2.46856164,\n",
       "        3.80375798,  1.59294043,  5.36702735,  3.88670778, 14.40584479,\n",
       "        2.11095609,  2.60803095,  8.46612424, 11.38793683,  1.07717583,\n",
       "       10.60713232,  7.41561441,  2.52411709, 12.59208859,  2.76478438,\n",
       "        3.86559856,  3.32726691, 10.78004263,  3.99724466,  2.6522219 ,\n",
       "        7.7618066 , 12.87702922,  2.62771596,  3.60684868, 14.65398647,\n",
       "       12.05208108,  8.63334099, 13.79858064, 11.29030521, 10.07316692,\n",
       "        9.54970083, 12.35092221,  4.04318425,  1.68846439,  4.81912145,\n",
       "       15.05184759,  3.52454998,  5.41199932,  5.97934823, 12.13854728,\n",
       "        3.72439962,  1.91964645, 12.55591901,  3.23705722,  2.53122314,\n",
       "       12.4051545 ,  2.7108235 ,  1.34270989,  3.20464314,  7.71027817,\n",
       "       10.3336147 ,  8.74140625,  3.76498294,  1.89789353,  8.50512167,\n",
       "        4.4801194 ,  5.18975703,  8.78208645,  8.62082949, 12.27730061,\n",
       "        0.97728035,  2.32527372,  2.26179266, 12.46277376,  2.69266848,\n",
       "        7.40699189,  8.12802847,  3.97312888,  5.63820872,  9.76249959,\n",
       "       13.84744034,  8.65741035,  8.34334791, 11.56861373,  8.66212037,\n",
       "        9.67116881, 13.92898749,  3.06982365,  3.54985736,  4.18804836,\n",
       "       10.94223039,  2.94663028, 11.554169  , 13.37340622, 10.20348984,\n",
       "        1.67827914,  4.7867974 ,  3.19121452, 11.00673425,  2.16647655,\n",
       "        3.86615381, 13.43627171,  5.25571838,  4.31918238, 10.00926544])"
      ]
     },
     "execution_count": 16,
     "metadata": {},
     "output_type": "execute_result"
    }
   ],
   "source": [
    "y2_prediction =  LR2.predict(x2_test)\n",
    "y2_prediction"
   ]
  },
  {
   "cell_type": "markdown",
   "metadata": {},
   "source": [
    "### Cross validation"
   ]
  },
  {
   "cell_type": "code",
   "execution_count": 17,
   "metadata": {
    "scrolled": false
   },
   "outputs": [
    {
     "data": {
      "text/plain": [
       "array([0.9720814 , 0.97437945, 0.97300237, 0.97219717, 0.97691594])"
      ]
     },
     "execution_count": 17,
     "metadata": {},
     "output_type": "execute_result"
    }
   ],
   "source": [
    "scores2 = cross_val_score(LR2, x2, y2, cv=5)\n",
    "scores2"
   ]
  },
  {
   "cell_type": "code",
   "execution_count": 18,
   "metadata": {},
   "outputs": [
    {
     "name": "stdout",
     "output_type": "stream",
     "text": [
      "0.97 accuracy with a standard deviation of 0.00\n"
     ]
    }
   ],
   "source": [
    "print(\"%0.2f accuracy with a standard deviation of %0.2f\" % (scores2.mean(), scores2.std()))"
   ]
  },
  {
   "cell_type": "markdown",
   "metadata": {},
   "source": [
    "### Relative Absolute Error"
   ]
  },
  {
   "cell_type": "code",
   "execution_count": 19,
   "metadata": {},
   "outputs": [
    {
     "name": "stdout",
     "output_type": "stream",
     "text": [
      "Error rate MLR :  7.756081824450678 %\n"
     ]
    }
   ],
   "source": [
    "error_rate2 = 100 * ((sum(abs(y2_prediction-y2_test)))/sum(y2_test));\n",
    "print(\"Error rate MLR : \",error_rate2 , \"%\")"
   ]
  },
  {
   "cell_type": "markdown",
   "metadata": {},
   "source": [
    "### Creation of the Dataset"
   ]
  },
  {
   "cell_type": "code",
   "execution_count": 20,
   "metadata": {},
   "outputs": [],
   "source": [
    "dataset2 = pd.DataFrame({'prediction' : y2_prediction, 'real_value' : y2_test})"
   ]
  },
  {
   "cell_type": "code",
   "execution_count": 21,
   "metadata": {},
   "outputs": [],
   "source": [
    "dataset2.to_csv('A1-synthetic_Results.csv',index=False)"
   ]
  },
  {
   "cell_type": "code",
   "execution_count": 38,
   "metadata": {},
   "outputs": [
    {
     "data": {
      "text/plain": [
       "<matplotlib.collections.PathCollection at 0x2b4fb9bbc88>"
      ]
     },
     "execution_count": 38,
     "metadata": {},
     "output_type": "execute_result"
    },
    {
     "data": {
      "image/png": "[encoded data removed]",
      "text/plain": [
       "<Figure size 432x288 with 1 Axes>"
      ]
     },
     "metadata": {
      "needs_background": "light"
     },
     "output_type": "display_data"
    }
   ],
   "source": [
    "plt.scatter(y2_prediction,y2_test)"
   ]
  },
  {
   "cell_type": "markdown",
   "metadata": {},
   "source": [
    "# Dataset Final_insurance_dataset"
   ]
  },
  {
   "cell_type": "code",
   "execution_count": 22,
   "metadata": {
    "scrolled": true
   },
   "outputs": [
    {
     "data": {
      "text/html": [
       "<div>\n",
       "<style scoped>\n",
       "    .dataframe tbody tr th:only-of-type {\n",
       "        vertical-align: middle;\n",
       "    }\n",
       "\n",
       "    .dataframe tbody tr th {\n",
       "        vertical-align: top;\n",
       "    }\n",
       "\n",
       "    .dataframe thead th {\n",
       "        text-align: right;\n",
       "    }\n",
       "</style>\n",
       "<table border=\"1\" class=\"dataframe\">\n",
       "  <thead>\n",
       "    <tr style=\"text-align: right;\">\n",
       "      <th></th>\n",
       "      <th>age</th>\n",
       "      <th>bmi</th>\n",
       "      <th>children</th>\n",
       "      <th>smoker</th>\n",
       "      <th>charges</th>\n",
       "      <th>IsFemale</th>\n",
       "      <th>IsMale</th>\n",
       "    </tr>\n",
       "  </thead>\n",
       "  <tbody>\n",
       "    <tr>\n",
       "      <th>0</th>\n",
       "      <td>0.021739</td>\n",
       "      <td>0.371847</td>\n",
       "      <td>0.00</td>\n",
       "      <td>1</td>\n",
       "      <td>0.325308</td>\n",
       "      <td>1</td>\n",
       "      <td>0</td>\n",
       "    </tr>\n",
       "    <tr>\n",
       "      <th>1</th>\n",
       "      <td>0.000000</td>\n",
       "      <td>0.554656</td>\n",
       "      <td>0.25</td>\n",
       "      <td>0</td>\n",
       "      <td>0.012458</td>\n",
       "      <td>0</td>\n",
       "      <td>1</td>\n",
       "    </tr>\n",
       "    <tr>\n",
       "      <th>2</th>\n",
       "      <td>0.217391</td>\n",
       "      <td>0.530676</td>\n",
       "      <td>0.75</td>\n",
       "      <td>0</td>\n",
       "      <td>0.068673</td>\n",
       "      <td>0</td>\n",
       "      <td>1</td>\n",
       "    </tr>\n",
       "    <tr>\n",
       "      <th>3</th>\n",
       "      <td>0.326087</td>\n",
       "      <td>0.210059</td>\n",
       "      <td>0.00</td>\n",
       "      <td>0</td>\n",
       "      <td>0.430549</td>\n",
       "      <td>0</td>\n",
       "      <td>1</td>\n",
       "    </tr>\n",
       "    <tr>\n",
       "      <th>4</th>\n",
       "      <td>0.304348</td>\n",
       "      <td>0.402367</td>\n",
       "      <td>0.00</td>\n",
       "      <td>0</td>\n",
       "      <td>0.056649</td>\n",
       "      <td>0</td>\n",
       "      <td>1</td>\n",
       "    </tr>\n",
       "    <tr>\n",
       "      <th>...</th>\n",
       "      <td>...</td>\n",
       "      <td>...</td>\n",
       "      <td>...</td>\n",
       "      <td>...</td>\n",
       "      <td>...</td>\n",
       "      <td>...</td>\n",
       "      <td>...</td>\n",
       "    </tr>\n",
       "    <tr>\n",
       "      <th>1304</th>\n",
       "      <td>0.695652</td>\n",
       "      <td>0.467456</td>\n",
       "      <td>0.75</td>\n",
       "      <td>0</td>\n",
       "      <td>0.195615</td>\n",
       "      <td>0</td>\n",
       "      <td>1</td>\n",
       "    </tr>\n",
       "    <tr>\n",
       "      <th>1305</th>\n",
       "      <td>0.000000</td>\n",
       "      <td>0.497041</td>\n",
       "      <td>0.00</td>\n",
       "      <td>0</td>\n",
       "      <td>0.022373</td>\n",
       "      <td>1</td>\n",
       "      <td>0</td>\n",
       "    </tr>\n",
       "    <tr>\n",
       "      <th>1306</th>\n",
       "      <td>0.000000</td>\n",
       "      <td>0.650576</td>\n",
       "      <td>0.00</td>\n",
       "      <td>0</td>\n",
       "      <td>0.010483</td>\n",
       "      <td>1</td>\n",
       "      <td>0</td>\n",
       "    </tr>\n",
       "    <tr>\n",
       "      <th>1307</th>\n",
       "      <td>0.065217</td>\n",
       "      <td>0.306447</td>\n",
       "      <td>0.00</td>\n",
       "      <td>0</td>\n",
       "      <td>0.018286</td>\n",
       "      <td>1</td>\n",
       "      <td>0</td>\n",
       "    </tr>\n",
       "    <tr>\n",
       "      <th>1308</th>\n",
       "      <td>0.934783</td>\n",
       "      <td>0.408284</td>\n",
       "      <td>0.00</td>\n",
       "      <td>1</td>\n",
       "      <td>0.578248</td>\n",
       "      <td>1</td>\n",
       "      <td>0</td>\n",
       "    </tr>\n",
       "  </tbody>\n",
       "</table>\n",
       "<p>1309 rows × 7 columns</p>\n",
       "</div>"
      ],
      "text/plain": [
       "           age       bmi  children  smoker   charges  IsFemale  IsMale\n",
       "0     0.021739  0.371847      0.00       1  0.325308         1       0\n",
       "1     0.000000  0.554656      0.25       0  0.012458         0       1\n",
       "2     0.217391  0.530676      0.75       0  0.068673         0       1\n",
       "3     0.326087  0.210059      0.00       0  0.430549         0       1\n",
       "4     0.304348  0.402367      0.00       0  0.056649         0       1\n",
       "...        ...       ...       ...     ...       ...       ...     ...\n",
       "1304  0.695652  0.467456      0.75       0  0.195615         0       1\n",
       "1305  0.000000  0.497041      0.00       0  0.022373         1       0\n",
       "1306  0.000000  0.650576      0.00       0  0.010483         1       0\n",
       "1307  0.065217  0.306447      0.00       0  0.018286         1       0\n",
       "1308  0.934783  0.408284      0.00       1  0.578248         1       0\n",
       "\n",
       "[1309 rows x 7 columns]"
      ]
     },
     "execution_count": 22,
     "metadata": {},
     "output_type": "execute_result"
    }
   ],
   "source": [
    "df = pd.read_csv('Final_insurance_dataset.csv')\n",
    "df"
   ]
  },
  {
   "cell_type": "markdown",
   "metadata": {},
   "source": [
    "### Creation of training and test datasets"
   ]
  },
  {
   "cell_type": "code",
   "execution_count": 23,
   "metadata": {},
   "outputs": [],
   "source": [
    "#separate the other attributes from the predicting attribute\n",
    "x = df.drop(['charges'], axis=1)\n",
    "#separte the predicting attribute into Y for model training \n",
    "y = df['charges']"
   ]
  },
  {
   "cell_type": "code",
   "execution_count": 24,
   "metadata": {},
   "outputs": [],
   "source": [
    "# splitting the data\n",
    "x_train, x_test, y_train, y_test = train_test_split(x, y, test_size = 0.2, random_state=42)"
   ]
  },
  {
   "cell_type": "markdown",
   "metadata": {},
   "source": [
    "### Prediction"
   ]
  },
  {
   "cell_type": "code",
   "execution_count": 25,
   "metadata": {},
   "outputs": [
    {
     "data": {
      "text/plain": [
       "LinearRegression(copy_X=True, fit_intercept=True, n_jobs=None, normalize=False)"
      ]
     },
     "execution_count": 25,
     "metadata": {},
     "output_type": "execute_result"
    }
   ],
   "source": [
    "# creating an object of LinearRegression class\n",
    "LR = LinearRegression()\n",
    "# fitting the training data\n",
    "LR.fit(x_train,y_train)"
   ]
  },
  {
   "cell_type": "code",
   "execution_count": 26,
   "metadata": {},
   "outputs": [
    {
     "data": {
      "text/plain": [
       "array([ 2.99717380e-01,  2.37718744e-01,  5.48990521e-01, -1.28333977e-02,\n",
       "        1.65282875e-01,  2.13198624e-01,  1.96203652e-01,  6.78903435e-01,\n",
       "        3.05675891e-01,  1.27203298e-01,  1.10265115e-01,  1.34651136e-01,\n",
       "        1.31902895e-02,  2.68740057e-01,  2.11051923e-01,  2.09175325e-01,\n",
       "        6.15733616e-01,  9.43450015e-02,  2.23388099e-01,  1.76310195e-01,\n",
       "        1.81667882e-01,  6.23474469e-01,  1.68265827e-01,  5.64253263e-01,\n",
       "        6.77916729e-02,  2.26422833e-01,  5.43069046e-02,  6.15142660e-01,\n",
       "        6.66685341e-02,  1.80773884e-01,  3.42213965e-01,  9.38192623e-02,\n",
       "        5.63540691e-01,  2.18280764e-02,  1.06918596e-01,  1.08759083e-01,\n",
       "        9.92107498e-02,  2.02906225e-01,  1.63995167e-01,  1.18010497e-01,\n",
       "        6.61415974e-01,  2.56186025e-01,  2.82224497e-02,  1.55680301e-01,\n",
       "        1.42417678e-02,  7.12701781e-01,  5.59259613e-01,  1.51773921e-01,\n",
       "       -3.09025976e-02,  3.25439150e-01,  1.00885798e-01,  3.10964621e-01,\n",
       "        2.89192441e-03,  2.18627493e-01,  1.45117006e-01,  2.31119166e-01,\n",
       "        1.05502521e-01,  8.51522010e-02,  1.79477829e-01,  2.17037872e-01,\n",
       "        2.86075925e-01,  2.31944285e-01,  7.07066989e-01,  9.29395818e-02,\n",
       "        5.57932139e-01,  6.09808114e-01,  2.64243038e-01,  6.12361174e-01,\n",
       "        1.24023889e-01,  5.47030334e-01,  1.04048981e-01,  2.18112416e-01,\n",
       "        7.11155209e-02,  1.67033406e-01,  6.51839806e-01,  1.86196710e-01,\n",
       "        2.00734392e-01,  1.85746059e-01,  1.70399882e-01,  2.26561227e-01,\n",
       "        2.65357427e-01,  6.19545024e-01,  5.77873169e-01,  1.45636776e-01,\n",
       "        6.23652712e-01,  2.28232694e-01,  1.55883198e-01,  2.42617743e-01,\n",
       "        7.40513859e-01,  6.17737947e-01,  2.50164207e-01,  2.92442463e-01,\n",
       "        9.93506598e-02,  5.22371973e-01,  6.55308409e-01,  6.92845783e-01,\n",
       "        2.12978386e-01,  1.78809322e-01,  1.09588336e-01,  7.07586762e-01,\n",
       "       -1.81452701e-02,  6.65452076e-01,  1.72790362e-01,  1.08098928e-01,\n",
       "        2.84544840e-01,  1.27008513e-01,  3.01979334e-01,  1.92849898e-01,\n",
       "        1.62336349e-01,  5.87338532e-01,  2.20690607e-01,  1.20693674e-01,\n",
       "        2.26416946e-01,  4.69617457e-02,  4.91067752e-01,  8.21890499e-02,\n",
       "        1.95026505e-01,  5.17583773e-01,  1.94469667e-01,  2.06776890e-01,\n",
       "        1.15612063e-01,  1.72674166e-01,  8.56046882e-02,  7.99062979e-01,\n",
       "        5.39789766e-01,  1.17162554e-01,  7.47742187e-02,  1.87423568e-01,\n",
       "        2.38238517e-01,  7.40456613e-02,  4.92075089e-01,  5.51802199e-02,\n",
       "        2.00604823e-01,  2.50174623e-01,  1.25887754e-01,  8.97831607e-02,\n",
       "        2.43537773e-02,  7.71053722e-02,  6.84541017e-01,  6.62305992e-01,\n",
       "        1.15239431e-01,  2.69051921e-01, -1.00769692e-02,  2.77255683e-01,\n",
       "        1.95723966e-01,  2.92349080e-01,  5.67939399e-01,  3.80878115e-02,\n",
       "        1.66889441e-01,  6.87196678e-01,  5.39092990e-02,  1.18984822e-01,\n",
       "        6.31720065e-01,  7.40810568e-02,  1.81990797e-01,  2.84306216e-04,\n",
       "        4.77619329e-01,  1.78429856e-01,  1.05630099e-01,  1.21305237e-01,\n",
       "        2.58407814e-01,  6.08743834e-01,  6.63361922e-01,  6.59166744e-01,\n",
       "        1.95183989e-01,  5.63785980e-01,  2.47792815e-01, -8.24053654e-03,\n",
       "        1.17373726e-01,  8.66983959e-02,  5.87829216e-02,  5.58294432e-01,\n",
       "        2.13941978e-01,  2.46651460e-01,  1.39941538e-01,  2.64846326e-01,\n",
       "        4.99676034e-01,  1.16020805e-01,  6.34144290e-03,  2.08858693e-01,\n",
       "        8.09948019e-02,  2.07985454e-01,  9.38467031e-02,  5.35680015e-01,\n",
       "       -3.41217181e-03,  2.47382404e-01,  2.74780489e-01,  1.75513763e-02,\n",
       "        6.56864471e-01,  6.24316787e-02,  5.47762490e-02,  4.60503378e-01,\n",
       "        1.21696954e-01,  7.92687783e-02,  4.21970889e-02,  1.76159546e-01,\n",
       "        6.95491258e-01,  1.66464315e-01,  2.03182540e-01,  1.55219064e-01,\n",
       "        1.29815289e-01,  1.42398580e-02,  2.94124747e-01,  1.97549015e-01,\n",
       "        6.72704653e-01,  1.93380090e-01,  1.31723460e-01,  1.52123014e-01,\n",
       "        1.99690949e-01,  3.17545507e-01,  1.11618040e-01,  2.73835672e-01,\n",
       "        1.27345669e-01,  2.69952677e-01, -5.11352014e-02,  1.46443360e-01,\n",
       "        1.93647411e-02,  6.53727612e-01,  5.41710583e-01,  6.14636372e-02,\n",
       "        5.17077160e-02,  1.27980372e-01,  2.37224344e-01,  5.93837484e-02,\n",
       "        2.07218641e-01,  3.31934533e-01,  2.29246470e-01,  1.93549824e-01,\n",
       "        2.97741383e-02,  9.05352589e-02,  1.55262809e-01,  9.27201371e-02,\n",
       "        6.22571727e-01,  7.11551676e-01,  2.14392473e-01,  1.39295851e-02,\n",
       "        4.52293547e-02,  7.21000343e-01,  1.37232184e-01,  8.07454554e-02,\n",
       "        2.26129818e-01,  1.34609457e-01,  6.77237462e-01,  2.34677175e-01,\n",
       "        1.28069213e-02,  2.18512563e-01,  7.25775740e-01,  1.14416147e-01,\n",
       "        1.65428026e-01,  1.87472084e-01,  7.88358576e-01,  6.16091059e-01,\n",
       "        3.81315562e-02,  2.95071632e-01,  2.15228010e-01,  5.28557542e-02,\n",
       "        1.95225744e-01,  6.92555518e-02,  5.90102767e-01,  2.93946980e-01,\n",
       "        2.30509439e-01,  1.22281551e-01])"
      ]
     },
     "execution_count": 26,
     "metadata": {},
     "output_type": "execute_result"
    }
   ],
   "source": [
    "y_prediction =  LR.predict(x_test)\n",
    "y_prediction"
   ]
  },
  {
   "cell_type": "markdown",
   "metadata": {},
   "source": [
    "### Cross validation"
   ]
  },
  {
   "cell_type": "code",
   "execution_count": 27,
   "metadata": {},
   "outputs": [
    {
     "data": {
      "text/plain": [
       "array([0.76266023, 0.7128933 , 0.77893527, 0.72844385, 0.76730718])"
      ]
     },
     "execution_count": 27,
     "metadata": {},
     "output_type": "execute_result"
    }
   ],
   "source": [
    "scores = cross_val_score(LR, x, y, cv=5)\n",
    "scores"
   ]
  },
  {
   "cell_type": "code",
   "execution_count": 28,
   "metadata": {},
   "outputs": [
    {
     "name": "stdout",
     "output_type": "stream",
     "text": [
      "0.75 accuracy with a standard deviation of 0.03\n"
     ]
    }
   ],
   "source": [
    "print(\"%0.2f accuracy with a standard deviation of %0.2f\" % (scores.mean(), scores.std()))"
   ]
  },
  {
   "cell_type": "markdown",
   "metadata": {},
   "source": [
    "### Relative Absolute Error"
   ]
  },
  {
   "cell_type": "code",
   "execution_count": 29,
   "metadata": {},
   "outputs": [
    {
     "name": "stdout",
     "output_type": "stream",
     "text": [
      "Error rate MLR :  32.235375028907384 %\n"
     ]
    }
   ],
   "source": [
    "error_rate = 100 * ((sum(abs(y_prediction-y_test)))/sum(y_test));\n",
    "print(\"Error rate MLR : \",error_rate , \"%\")"
   ]
  },
  {
   "cell_type": "markdown",
   "metadata": {},
   "source": [
    "### Creation of the Dataset"
   ]
  },
  {
   "cell_type": "code",
   "execution_count": 31,
   "metadata": {},
   "outputs": [],
   "source": [
    "dataset3 = pd.DataFrame({'prediction' : y_prediction, 'real_value' : y_test})"
   ]
  },
  {
   "cell_type": "code",
   "execution_count": 32,
   "metadata": {},
   "outputs": [],
   "source": [
    "dataset3.to_csv('Final_insurance_dataset_Results.csv',index=False)"
   ]
  },
  {
   "cell_type": "code",
   "execution_count": 40,
   "metadata": {},
   "outputs": [
    {
     "data": {
      "text/plain": [
       "<matplotlib.collections.PathCollection at 0x2b4fbaa6d08>"
      ]
     },
     "execution_count": 40,
     "metadata": {},
     "output_type": "execute_result"
    },
    {
     "data": {
      "image/png": "[encoded data removed]",
      "text/plain": [
       "<Figure size 432x288 with 1 Axes>"
      ]
     },
     "metadata": {
      "needs_background": "light"
     },
     "output_type": "display_data"
    }
   ],
   "source": [
    "plt.scatter(y_prediction,y_test)"
   ]
  },
  {
   "cell_type": "code",
   "execution_count": null,
   "metadata": {},
   "outputs": [],
   "source": []
  }
 ],
 "metadata": {
  "kernelspec": {
   "display_name": "Python 3",
   "language": "python",
   "name": "python3"
  },
  "language_info": {
   "codemirror_mode": {
    "name": "ipython",
    "version": 3
   },
   "file_extension": ".py",
   "mimetype": "text/x-python",
   "name": "python",
   "nbconvert_exporter": "python",
   "pygments_lexer": "ipython3",
   "version": "3.7.6"
  }
 },
 "nbformat": 4,
 "nbformat_minor": 4
}
