{
 "cells": [
  {
   "cell_type": "markdown",
   "metadata": {},
   "source": [
    "### Elsa RUELLE - Saphya EL OUAHABI"
   ]
  },
  {
   "cell_type": "markdown",
   "metadata": {},
   "source": [
    "## Multiple Linear Regression"
   ]
  },
  {
   "cell_type": "markdown",
   "metadata": {},
   "source": [
    "### IMPORT"
   ]
  },
  {
   "cell_type": "code",
   "execution_count": 1,
   "metadata": {},
   "outputs": [],
   "source": [
    "# importing pandas\n",
    "import pandas as pd\n",
    "# importing train_test_split from sklearn\n",
    "from sklearn.model_selection import train_test_split\n",
    "# importing module\n",
    "from sklearn.linear_model import LinearRegression\n",
    "# importing r2_score module\n",
    "from sklearn.metrics import r2_score\n",
    "from sklearn.metrics import mean_squared_error\n",
    "import numpy as np\n",
    "from sklearn.model_selection import cross_val_score\n",
    "import matplotlib.pyplot as plt"
   ]
  },
  {
   "cell_type": "markdown",
   "metadata": {},
   "source": [
    "# Dataset A1-turbine"
   ]
  },
  {
   "cell_type": "code",
   "execution_count": 2,
   "metadata": {},
   "outputs": [
    {
     "data": {
      "text/html": [
       "<div>\n",
       "<style scoped>\n",
       "    .dataframe tbody tr th:only-of-type {\n",
       "        vertical-align: middle;\n",
       "    }\n",
       "\n",
       "    .dataframe tbody tr th {\n",
       "        vertical-align: top;\n",
       "    }\n",
       "\n",
       "    .dataframe thead th {\n",
       "        text-align: right;\n",
       "    }\n",
       "</style>\n",
       "<table border=\"1\" class=\"dataframe\">\n",
       "  <thead>\n",
       "    <tr style=\"text-align: right;\">\n",
       "      <th></th>\n",
       "      <th>#height_over_sea_level</th>\n",
       "      <th>fall</th>\n",
       "      <th>net_fall</th>\n",
       "      <th>flow</th>\n",
       "      <th>power_of_hydroelectrical_turbine</th>\n",
       "    </tr>\n",
       "  </thead>\n",
       "  <tbody>\n",
       "    <tr>\n",
       "      <th>0</th>\n",
       "      <td>624.0</td>\n",
       "      <td>89.16</td>\n",
       "      <td>89.765</td>\n",
       "      <td>3.5</td>\n",
       "      <td>2512.85</td>\n",
       "    </tr>\n",
       "    <tr>\n",
       "      <th>1</th>\n",
       "      <td>628.0</td>\n",
       "      <td>93.16</td>\n",
       "      <td>93.765</td>\n",
       "      <td>3.5</td>\n",
       "      <td>2583.79</td>\n",
       "    </tr>\n",
       "    <tr>\n",
       "      <th>2</th>\n",
       "      <td>602.0</td>\n",
       "      <td>67.84</td>\n",
       "      <td>66.415</td>\n",
       "      <td>6.5</td>\n",
       "      <td>3748.77</td>\n",
       "    </tr>\n",
       "    <tr>\n",
       "      <th>3</th>\n",
       "      <td>599.0</td>\n",
       "      <td>64.84</td>\n",
       "      <td>63.415</td>\n",
       "      <td>6.5</td>\n",
       "      <td>3520.65</td>\n",
       "    </tr>\n",
       "    <tr>\n",
       "      <th>4</th>\n",
       "      <td>630.0</td>\n",
       "      <td>94.69</td>\n",
       "      <td>93.540</td>\n",
       "      <td>8.0</td>\n",
       "      <td>6673.84</td>\n",
       "    </tr>\n",
       "    <tr>\n",
       "      <th>...</th>\n",
       "      <td>...</td>\n",
       "      <td>...</td>\n",
       "      <td>...</td>\n",
       "      <td>...</td>\n",
       "      <td>...</td>\n",
       "    </tr>\n",
       "    <tr>\n",
       "      <th>446</th>\n",
       "      <td>605.0</td>\n",
       "      <td>71.10</td>\n",
       "      <td>70.550</td>\n",
       "      <td>4.0</td>\n",
       "      <td>2337.68</td>\n",
       "    </tr>\n",
       "    <tr>\n",
       "      <th>447</th>\n",
       "      <td>621.0</td>\n",
       "      <td>85.59</td>\n",
       "      <td>83.840</td>\n",
       "      <td>9.0</td>\n",
       "      <td>6451.24</td>\n",
       "    </tr>\n",
       "    <tr>\n",
       "      <th>448</th>\n",
       "      <td>607.0</td>\n",
       "      <td>71.69</td>\n",
       "      <td>70.540</td>\n",
       "      <td>8.0</td>\n",
       "      <td>4806.83</td>\n",
       "    </tr>\n",
       "    <tr>\n",
       "      <th>449</th>\n",
       "      <td>612.0</td>\n",
       "      <td>76.84</td>\n",
       "      <td>76.415</td>\n",
       "      <td>6.5</td>\n",
       "      <td>4450.58</td>\n",
       "    </tr>\n",
       "    <tr>\n",
       "      <th>450</th>\n",
       "      <td>610.0</td>\n",
       "      <td>75.04</td>\n",
       "      <td>75.365</td>\n",
       "      <td>4.5</td>\n",
       "      <td>2893.53</td>\n",
       "    </tr>\n",
       "  </tbody>\n",
       "</table>\n",
       "<p>451 rows × 5 columns</p>\n",
       "</div>"
      ],
      "text/plain": [
       "     #height_over_sea_level   fall  net_fall  flow  \\\n",
       "0                     624.0  89.16    89.765   3.5   \n",
       "1                     628.0  93.16    93.765   3.5   \n",
       "2                     602.0  67.84    66.415   6.5   \n",
       "3                     599.0  64.84    63.415   6.5   \n",
       "4                     630.0  94.69    93.540   8.0   \n",
       "..                      ...    ...       ...   ...   \n",
       "446                   605.0  71.10    70.550   4.0   \n",
       "447                   621.0  85.59    83.840   9.0   \n",
       "448                   607.0  71.69    70.540   8.0   \n",
       "449                   612.0  76.84    76.415   6.5   \n",
       "450                   610.0  75.04    75.365   4.5   \n",
       "\n",
       "     power_of_hydroelectrical_turbine  \n",
       "0                             2512.85  \n",
       "1                             2583.79  \n",
       "2                             3748.77  \n",
       "3                             3520.65  \n",
       "4                             6673.84  \n",
       "..                                ...  \n",
       "446                           2337.68  \n",
       "447                           6451.24  \n",
       "448                           4806.83  \n",
       "449                           4450.58  \n",
       "450                           2893.53  \n",
       "\n",
       "[451 rows x 5 columns]"
      ]
     },
     "execution_count": 2,
     "metadata": {},
     "output_type": "execute_result"
    }
   ],
   "source": [
    "df1 = pd.read_csv('Raw_datasets/A1-turbine.txt', sep='\\t')\n",
    "df1"
   ]
  },
  {
   "cell_type": "markdown",
   "metadata": {},
   "source": [
    "### Normalization\n"
   ]
  },
  {
   "cell_type": "code",
   "execution_count": 3,
   "metadata": {},
   "outputs": [],
   "source": [
    "s_min=0.1\n",
    "s_max=1\n",
    "def norm(df_input):\n",
    "    return(s_min+((s_max-s_min)/(df_input.max() - df_input.min()))*(df_input - df_input.min()))"
   ]
  },
  {
   "cell_type": "code",
   "execution_count": 4,
   "metadata": {},
   "outputs": [
    {
     "data": {
      "text/html": [
       "<div>\n",
       "<style scoped>\n",
       "    .dataframe tbody tr th:only-of-type {\n",
       "        vertical-align: middle;\n",
       "    }\n",
       "\n",
       "    .dataframe tbody tr th {\n",
       "        vertical-align: top;\n",
       "    }\n",
       "\n",
       "    .dataframe thead th {\n",
       "        text-align: right;\n",
       "    }\n",
       "</style>\n",
       "<table border=\"1\" class=\"dataframe\">\n",
       "  <thead>\n",
       "    <tr style=\"text-align: right;\">\n",
       "      <th></th>\n",
       "      <th>#height_over_sea_level</th>\n",
       "      <th>fall</th>\n",
       "      <th>net_fall</th>\n",
       "      <th>flow</th>\n",
       "      <th>power_of_hydroelectrical_turbine</th>\n",
       "    </tr>\n",
       "  </thead>\n",
       "  <tbody>\n",
       "    <tr>\n",
       "      <th>0</th>\n",
       "      <td>0.861538</td>\n",
       "      <td>0.839041</td>\n",
       "      <td>0.863880</td>\n",
       "      <td>0.175</td>\n",
       "      <td>0.234961</td>\n",
       "    </tr>\n",
       "    <tr>\n",
       "      <th>1</th>\n",
       "      <td>0.953846</td>\n",
       "      <td>0.930365</td>\n",
       "      <td>0.952126</td>\n",
       "      <td>0.175</td>\n",
       "      <td>0.246390</td>\n",
       "    </tr>\n",
       "    <tr>\n",
       "      <th>2</th>\n",
       "      <td>0.353846</td>\n",
       "      <td>0.352283</td>\n",
       "      <td>0.348744</td>\n",
       "      <td>0.625</td>\n",
       "      <td>0.434081</td>\n",
       "    </tr>\n",
       "    <tr>\n",
       "      <th>3</th>\n",
       "      <td>0.284615</td>\n",
       "      <td>0.283790</td>\n",
       "      <td>0.282559</td>\n",
       "      <td>0.625</td>\n",
       "      <td>0.397329</td>\n",
       "    </tr>\n",
       "    <tr>\n",
       "      <th>4</th>\n",
       "      <td>1.000000</td>\n",
       "      <td>0.965297</td>\n",
       "      <td>0.947163</td>\n",
       "      <td>0.850</td>\n",
       "      <td>0.905342</td>\n",
       "    </tr>\n",
       "    <tr>\n",
       "      <th>...</th>\n",
       "      <td>...</td>\n",
       "      <td>...</td>\n",
       "      <td>...</td>\n",
       "      <td>...</td>\n",
       "      <td>...</td>\n",
       "    </tr>\n",
       "    <tr>\n",
       "      <th>446</th>\n",
       "      <td>0.423077</td>\n",
       "      <td>0.426712</td>\n",
       "      <td>0.439968</td>\n",
       "      <td>0.250</td>\n",
       "      <td>0.206739</td>\n",
       "    </tr>\n",
       "    <tr>\n",
       "      <th>447</th>\n",
       "      <td>0.792308</td>\n",
       "      <td>0.757534</td>\n",
       "      <td>0.733166</td>\n",
       "      <td>1.000</td>\n",
       "      <td>0.869479</td>\n",
       "    </tr>\n",
       "    <tr>\n",
       "      <th>448</th>\n",
       "      <td>0.469231</td>\n",
       "      <td>0.440183</td>\n",
       "      <td>0.439748</td>\n",
       "      <td>0.850</td>\n",
       "      <td>0.604547</td>\n",
       "    </tr>\n",
       "    <tr>\n",
       "      <th>449</th>\n",
       "      <td>0.584615</td>\n",
       "      <td>0.557763</td>\n",
       "      <td>0.569359</td>\n",
       "      <td>0.625</td>\n",
       "      <td>0.547151</td>\n",
       "    </tr>\n",
       "    <tr>\n",
       "      <th>450</th>\n",
       "      <td>0.538462</td>\n",
       "      <td>0.516667</td>\n",
       "      <td>0.546194</td>\n",
       "      <td>0.325</td>\n",
       "      <td>0.296293</td>\n",
       "    </tr>\n",
       "  </tbody>\n",
       "</table>\n",
       "<p>451 rows × 5 columns</p>\n",
       "</div>"
      ],
      "text/plain": [
       "     #height_over_sea_level      fall  net_fall   flow  \\\n",
       "0                  0.861538  0.839041  0.863880  0.175   \n",
       "1                  0.953846  0.930365  0.952126  0.175   \n",
       "2                  0.353846  0.352283  0.348744  0.625   \n",
       "3                  0.284615  0.283790  0.282559  0.625   \n",
       "4                  1.000000  0.965297  0.947163  0.850   \n",
       "..                      ...       ...       ...    ...   \n",
       "446                0.423077  0.426712  0.439968  0.250   \n",
       "447                0.792308  0.757534  0.733166  1.000   \n",
       "448                0.469231  0.440183  0.439748  0.850   \n",
       "449                0.584615  0.557763  0.569359  0.625   \n",
       "450                0.538462  0.516667  0.546194  0.325   \n",
       "\n",
       "     power_of_hydroelectrical_turbine  \n",
       "0                            0.234961  \n",
       "1                            0.246390  \n",
       "2                            0.434081  \n",
       "3                            0.397329  \n",
       "4                            0.905342  \n",
       "..                                ...  \n",
       "446                          0.206739  \n",
       "447                          0.869479  \n",
       "448                          0.604547  \n",
       "449                          0.547151  \n",
       "450                          0.296293  \n",
       "\n",
       "[451 rows x 5 columns]"
      ]
     },
     "execution_count": 4,
     "metadata": {},
     "output_type": "execute_result"
    }
   ],
   "source": [
    "columns= df1.columns\n",
    "for col in columns:\n",
    "    df1[col]=norm(df1[col])\n",
    "df1"
   ]
  },
  {
   "cell_type": "markdown",
   "metadata": {},
   "source": [
    "### Creation of training and test datasets"
   ]
  },
  {
   "cell_type": "markdown",
   "metadata": {},
   "source": [
    "\"power_of_hydroelectrical_turbine\" is the variable that we want to predict."
   ]
  },
  {
   "cell_type": "code",
   "execution_count": 5,
   "metadata": {},
   "outputs": [],
   "source": [
    "#separate the other attributes from the predicting attribute\n",
    "x1 = df1.drop('power_of_hydroelectrical_turbine', axis=1)\n",
    "#separate the predicting attribute into Y for model training \n",
    "y1 = df1['power_of_hydroelectrical_turbine']"
   ]
  },
  {
   "cell_type": "markdown",
   "metadata": {},
   "source": [
    "We split our data into training and testing parts.\n",
    "We select 85% of our data for the training part and 15% for the tests."
   ]
  },
  {
   "cell_type": "code",
   "execution_count": 6,
   "metadata": {},
   "outputs": [],
   "source": [
    "# splitting the data\n",
    "x1_train, x1_test, y1_train, y1_test = train_test_split(x1, y1, test_size = 0.15, random_state=42)"
   ]
  },
  {
   "cell_type": "markdown",
   "metadata": {},
   "source": [
    "### Prediction"
   ]
  },
  {
   "cell_type": "markdown",
   "metadata": {},
   "source": [
    "We apply the linear regression model on our training data."
   ]
  },
  {
   "cell_type": "code",
   "execution_count": 7,
   "metadata": {},
   "outputs": [
    {
     "data": {
      "text/plain": [
       "LinearRegression(copy_X=True, fit_intercept=True, n_jobs=None, normalize=False)"
      ]
     },
     "execution_count": 7,
     "metadata": {},
     "output_type": "execute_result"
    }
   ],
   "source": [
    "# creating an object of LinearRegression class\n",
    "LR1 = LinearRegression()\n",
    "# fitting the training data\n",
    "LR1.fit(x1_train,y1_train)"
   ]
  },
  {
   "cell_type": "markdown",
   "metadata": {},
   "source": [
    "We predict our data from x_test:"
   ]
  },
  {
   "cell_type": "code",
   "execution_count": 8,
   "metadata": {},
   "outputs": [
    {
     "data": {
      "text/plain": [
       "array([0.79784975, 0.4352314 , 0.62265026, 0.6737644 , 0.28096067,\n",
       "       0.70829179, 0.28674431, 0.40650752, 0.65270157, 0.45221526,\n",
       "       0.238501  , 0.63963413, 0.54197242, 0.39801559, 0.22730077,\n",
       "       0.51237241, 0.44095895, 0.57594015, 0.70331916, 0.23000907,\n",
       "       0.38853023, 0.70365317, 0.38103172, 0.34607056, 0.67432405,\n",
       "       0.72912897, 0.51738636, 0.72991427, 0.47828738, 0.54286216,\n",
       "       0.65678053, 0.82332555, 0.80634168, 0.4868966 , 0.6866693 ,\n",
       "       0.27076873, 0.38422561, 0.29511895, 0.0366487 , 0.85729329,\n",
       "       0.49191055, 0.56294441, 0.39000734, 0.28945261, 0.50040249,\n",
       "       0.87427715, 0.37650146, 0.84416273, 0.55984603, 0.58443209,\n",
       "       0.48677931, 0.69477305, 0.78008058, 0.07061644, 0.42668528,\n",
       "       0.43246701, 0.17634916, 0.34706399, 0.55895628, 0.4607072 ,\n",
       "       0.14661433, 0.2877526 , 0.39849928, 0.69130792, 0.02815677,\n",
       "       0.77237394, 0.74225952, 0.86963854])"
      ]
     },
     "execution_count": 8,
     "metadata": {},
     "output_type": "execute_result"
    }
   ],
   "source": [
    "y1_prediction =  LR1.predict(x1_test)\n",
    "y1_prediction"
   ]
  },
  {
   "cell_type": "markdown",
   "metadata": {},
   "source": [
    "### Cross validation"
   ]
  },
  {
   "cell_type": "code",
   "execution_count": 9,
   "metadata": {
    "scrolled": false
   },
   "outputs": [
    {
     "data": {
      "text/plain": [
       "array([0.97489236, 0.97894676, 0.96153066, 0.97012587, 0.97335748])"
      ]
     },
     "execution_count": 9,
     "metadata": {},
     "output_type": "execute_result"
    }
   ],
   "source": [
    "scores1 = cross_val_score(LR1, x1, y1)\n",
    "scores1"
   ]
  },
  {
   "cell_type": "code",
   "execution_count": 10,
   "metadata": {},
   "outputs": [
    {
     "name": "stdout",
     "output_type": "stream",
     "text": [
      "0.97 accuracy with a standard deviation of 0.01\n"
     ]
    }
   ],
   "source": [
    "print(\"%0.2f accuracy with a standard deviation of %0.2f\" % (scores1.mean(), scores1.std()))"
   ]
  },
  {
   "cell_type": "markdown",
   "metadata": {},
   "source": [
    "### Relative Absolute Error"
   ]
  },
  {
   "cell_type": "code",
   "execution_count": 11,
   "metadata": {},
   "outputs": [
    {
     "name": "stdout",
     "output_type": "stream",
     "text": [
      "Error rate MLR :  4.830087694436299 %\n"
     ]
    }
   ],
   "source": [
    "error_rate1 = 100 * ((sum(abs(y1_prediction-y1_test)))/sum(y1_test));\n",
    "print(\"Error rate MLR : \",error_rate1 , \"%\")"
   ]
  },
  {
   "cell_type": "markdown",
   "metadata": {},
   "source": [
    "### Creation of the Dataset"
   ]
  },
  {
   "cell_type": "code",
   "execution_count": 12,
   "metadata": {},
   "outputs": [],
   "source": [
    "dataset1 = pd.DataFrame({'prediction' : y1_prediction, 'real_value' : y1_test})"
   ]
  },
  {
   "cell_type": "code",
   "execution_count": 13,
   "metadata": {},
   "outputs": [],
   "source": [
    "dataset1.to_csv('Prediction_datasets/A1-turbine_Results.csv',index=False)"
   ]
  },
  {
   "cell_type": "code",
   "execution_count": 14,
   "metadata": {},
   "outputs": [
    {
     "data": {
      "text/plain": [
       "<function matplotlib.pyplot.show(*args, **kw)>"
      ]
     },
     "execution_count": 14,
     "metadata": {},
     "output_type": "execute_result"
    },
    {
     "data": {
      "image/png": "[encoded data removed]",
      "text/plain": [
       "<Figure size 432x288 with 1 Axes>"
      ]
     },
     "metadata": {
      "needs_background": "light"
     },
     "output_type": "display_data"
    }
   ],
   "source": [
    "plt.scatter(y1_prediction,y1_test)\n",
    "plt.plot( [0,1],[0,1] )\n",
    "plt.xlabel('Predicted')\n",
    "plt.ylabel('Real')\n",
    "plt.title('MLR Scatter plot: Turbine dataset')\n",
    "plt.show\n"
   ]
  },
  {
   "cell_type": "markdown",
   "metadata": {},
   "source": [
    "# Dataset A1-synthetic"
   ]
  },
  {
   "cell_type": "code",
   "execution_count": 15,
   "metadata": {},
   "outputs": [
    {
     "data": {
      "text/html": [
       "<div>\n",
       "<style scoped>\n",
       "    .dataframe tbody tr th:only-of-type {\n",
       "        vertical-align: middle;\n",
       "    }\n",
       "\n",
       "    .dataframe tbody tr th {\n",
       "        vertical-align: top;\n",
       "    }\n",
       "\n",
       "    .dataframe thead th {\n",
       "        text-align: right;\n",
       "    }\n",
       "</style>\n",
       "<table border=\"1\" class=\"dataframe\">\n",
       "  <thead>\n",
       "    <tr style=\"text-align: right;\">\n",
       "      <th></th>\n",
       "      <th>#v1</th>\n",
       "      <th>v2</th>\n",
       "      <th>v3</th>\n",
       "      <th>v4</th>\n",
       "      <th>v5</th>\n",
       "      <th>v6</th>\n",
       "      <th>v7</th>\n",
       "      <th>v8</th>\n",
       "      <th>v9</th>\n",
       "      <th>z</th>\n",
       "    </tr>\n",
       "  </thead>\n",
       "  <tbody>\n",
       "    <tr>\n",
       "      <th>0</th>\n",
       "      <td>37.344110</td>\n",
       "      <td>10.542156</td>\n",
       "      <td>0.969185</td>\n",
       "      <td>3.568534</td>\n",
       "      <td>96.798733</td>\n",
       "      <td>3.429026</td>\n",
       "      <td>75.810196</td>\n",
       "      <td>0</td>\n",
       "      <td>20.002459</td>\n",
       "      <td>11.805369</td>\n",
       "    </tr>\n",
       "    <tr>\n",
       "      <th>1</th>\n",
       "      <td>4.089849</td>\n",
       "      <td>11.894301</td>\n",
       "      <td>0.467775</td>\n",
       "      <td>1.279044</td>\n",
       "      <td>100.149383</td>\n",
       "      <td>3.190073</td>\n",
       "      <td>76.423095</td>\n",
       "      <td>0</td>\n",
       "      <td>12.702628</td>\n",
       "      <td>5.125025</td>\n",
       "    </tr>\n",
       "    <tr>\n",
       "      <th>2</th>\n",
       "      <td>-32.333439</td>\n",
       "      <td>10.968631</td>\n",
       "      <td>0.238486</td>\n",
       "      <td>1.410745</td>\n",
       "      <td>100.642074</td>\n",
       "      <td>3.093934</td>\n",
       "      <td>78.758727</td>\n",
       "      <td>1</td>\n",
       "      <td>10.723848</td>\n",
       "      <td>3.218553</td>\n",
       "    </tr>\n",
       "    <tr>\n",
       "      <th>3</th>\n",
       "      <td>-45.632977</td>\n",
       "      <td>11.509606</td>\n",
       "      <td>0.924938</td>\n",
       "      <td>3.404069</td>\n",
       "      <td>105.963016</td>\n",
       "      <td>2.884269</td>\n",
       "      <td>83.027750</td>\n",
       "      <td>0</td>\n",
       "      <td>19.946593</td>\n",
       "      <td>12.955092</td>\n",
       "    </tr>\n",
       "    <tr>\n",
       "      <th>4</th>\n",
       "      <td>-41.543394</td>\n",
       "      <td>10.117186</td>\n",
       "      <td>0.315180</td>\n",
       "      <td>1.020120</td>\n",
       "      <td>97.371423</td>\n",
       "      <td>2.815820</td>\n",
       "      <td>77.194463</td>\n",
       "      <td>0</td>\n",
       "      <td>11.105024</td>\n",
       "      <td>1.919094</td>\n",
       "    </tr>\n",
       "    <tr>\n",
       "      <th>...</th>\n",
       "      <td>...</td>\n",
       "      <td>...</td>\n",
       "      <td>...</td>\n",
       "      <td>...</td>\n",
       "      <td>...</td>\n",
       "      <td>...</td>\n",
       "      <td>...</td>\n",
       "      <td>...</td>\n",
       "      <td>...</td>\n",
       "      <td>...</td>\n",
       "    </tr>\n",
       "    <tr>\n",
       "      <th>995</th>\n",
       "      <td>3.792427</td>\n",
       "      <td>10.567199</td>\n",
       "      <td>0.912737</td>\n",
       "      <td>3.909415</td>\n",
       "      <td>98.701308</td>\n",
       "      <td>3.222058</td>\n",
       "      <td>77.648206</td>\n",
       "      <td>0</td>\n",
       "      <td>18.903414</td>\n",
       "      <td>11.265913</td>\n",
       "    </tr>\n",
       "    <tr>\n",
       "      <th>996</th>\n",
       "      <td>-15.036910</td>\n",
       "      <td>11.639085</td>\n",
       "      <td>0.988515</td>\n",
       "      <td>3.202736</td>\n",
       "      <td>107.622269</td>\n",
       "      <td>3.236556</td>\n",
       "      <td>84.364686</td>\n",
       "      <td>0</td>\n",
       "      <td>21.473280</td>\n",
       "      <td>15.061569</td>\n",
       "    </tr>\n",
       "    <tr>\n",
       "      <th>997</th>\n",
       "      <td>3.448645</td>\n",
       "      <td>10.819087</td>\n",
       "      <td>0.798970</td>\n",
       "      <td>3.763737</td>\n",
       "      <td>100.801840</td>\n",
       "      <td>2.326508</td>\n",
       "      <td>79.251359</td>\n",
       "      <td>0</td>\n",
       "      <td>17.006395</td>\n",
       "      <td>11.029825</td>\n",
       "    </tr>\n",
       "    <tr>\n",
       "      <th>998</th>\n",
       "      <td>44.874246</td>\n",
       "      <td>10.272157</td>\n",
       "      <td>0.061187</td>\n",
       "      <td>1.267862</td>\n",
       "      <td>99.931950</td>\n",
       "      <td>2.979643</td>\n",
       "      <td>79.454761</td>\n",
       "      <td>0</td>\n",
       "      <td>10.138457</td>\n",
       "      <td>1.580719</td>\n",
       "    </tr>\n",
       "    <tr>\n",
       "      <th>999</th>\n",
       "      <td>19.611066</td>\n",
       "      <td>11.990251</td>\n",
       "      <td>0.200811</td>\n",
       "      <td>1.178237</td>\n",
       "      <td>99.683310</td>\n",
       "      <td>2.620652</td>\n",
       "      <td>75.754955</td>\n",
       "      <td>0</td>\n",
       "      <td>10.583506</td>\n",
       "      <td>3.665128</td>\n",
       "    </tr>\n",
       "  </tbody>\n",
       "</table>\n",
       "<p>1000 rows × 10 columns</p>\n",
       "</div>"
      ],
      "text/plain": [
       "           #v1         v2        v3        v4          v5        v6  \\\n",
       "0    37.344110  10.542156  0.969185  3.568534   96.798733  3.429026   \n",
       "1     4.089849  11.894301  0.467775  1.279044  100.149383  3.190073   \n",
       "2   -32.333439  10.968631  0.238486  1.410745  100.642074  3.093934   \n",
       "3   -45.632977  11.509606  0.924938  3.404069  105.963016  2.884269   \n",
       "4   -41.543394  10.117186  0.315180  1.020120   97.371423  2.815820   \n",
       "..         ...        ...       ...       ...         ...       ...   \n",
       "995   3.792427  10.567199  0.912737  3.909415   98.701308  3.222058   \n",
       "996 -15.036910  11.639085  0.988515  3.202736  107.622269  3.236556   \n",
       "997   3.448645  10.819087  0.798970  3.763737  100.801840  2.326508   \n",
       "998  44.874246  10.272157  0.061187  1.267862   99.931950  2.979643   \n",
       "999  19.611066  11.990251  0.200811  1.178237   99.683310  2.620652   \n",
       "\n",
       "            v7  v8         v9          z  \n",
       "0    75.810196   0  20.002459  11.805369  \n",
       "1    76.423095   0  12.702628   5.125025  \n",
       "2    78.758727   1  10.723848   3.218553  \n",
       "3    83.027750   0  19.946593  12.955092  \n",
       "4    77.194463   0  11.105024   1.919094  \n",
       "..         ...  ..        ...        ...  \n",
       "995  77.648206   0  18.903414  11.265913  \n",
       "996  84.364686   0  21.473280  15.061569  \n",
       "997  79.251359   0  17.006395  11.029825  \n",
       "998  79.454761   0  10.138457   1.580719  \n",
       "999  75.754955   0  10.583506   3.665128  \n",
       "\n",
       "[1000 rows x 10 columns]"
      ]
     },
     "execution_count": 15,
     "metadata": {},
     "output_type": "execute_result"
    }
   ],
   "source": [
    "df2 = pd.read_csv('Raw_datasets/A1-synthetic.txt', sep='\\t')\n",
    "df2"
   ]
  },
  {
   "cell_type": "markdown",
   "metadata": {},
   "source": [
    "### Data normalization"
   ]
  },
  {
   "cell_type": "code",
   "execution_count": 16,
   "metadata": {},
   "outputs": [
    {
     "data": {
      "text/html": [
       "<div>\n",
       "<style scoped>\n",
       "    .dataframe tbody tr th:only-of-type {\n",
       "        vertical-align: middle;\n",
       "    }\n",
       "\n",
       "    .dataframe tbody tr th {\n",
       "        vertical-align: top;\n",
       "    }\n",
       "\n",
       "    .dataframe thead th {\n",
       "        text-align: right;\n",
       "    }\n",
       "</style>\n",
       "<table border=\"1\" class=\"dataframe\">\n",
       "  <thead>\n",
       "    <tr style=\"text-align: right;\">\n",
       "      <th></th>\n",
       "      <th>#v1</th>\n",
       "      <th>v2</th>\n",
       "      <th>v3</th>\n",
       "      <th>v4</th>\n",
       "      <th>v5</th>\n",
       "      <th>v6</th>\n",
       "      <th>v7</th>\n",
       "      <th>v8</th>\n",
       "      <th>v9</th>\n",
       "      <th>z</th>\n",
       "    </tr>\n",
       "  </thead>\n",
       "  <tbody>\n",
       "    <tr>\n",
       "      <th>0</th>\n",
       "      <td>0.886901</td>\n",
       "      <td>0.344035</td>\n",
       "      <td>0.972501</td>\n",
       "      <td>0.870515</td>\n",
       "      <td>0.437269</td>\n",
       "      <td>0.904911</td>\n",
       "      <td>0.473432</td>\n",
       "      <td>0.1</td>\n",
       "      <td>0.846795</td>\n",
       "      <td>0.771958</td>\n",
       "    </tr>\n",
       "    <tr>\n",
       "      <th>1</th>\n",
       "      <td>0.587111</td>\n",
       "      <td>0.952779</td>\n",
       "      <td>0.521042</td>\n",
       "      <td>0.183067</td>\n",
       "      <td>0.534256</td>\n",
       "      <td>0.772721</td>\n",
       "      <td>0.490698</td>\n",
       "      <td>0.1</td>\n",
       "      <td>0.296277</td>\n",
       "      <td>0.415596</td>\n",
       "    </tr>\n",
       "    <tr>\n",
       "      <th>2</th>\n",
       "      <td>0.258751</td>\n",
       "      <td>0.536037</td>\n",
       "      <td>0.314595</td>\n",
       "      <td>0.222612</td>\n",
       "      <td>0.548518</td>\n",
       "      <td>0.719537</td>\n",
       "      <td>0.556495</td>\n",
       "      <td>1.0</td>\n",
       "      <td>0.147048</td>\n",
       "      <td>0.313895</td>\n",
       "    </tr>\n",
       "    <tr>\n",
       "      <th>3</th>\n",
       "      <td>0.138854</td>\n",
       "      <td>0.779587</td>\n",
       "      <td>0.932662</td>\n",
       "      <td>0.821132</td>\n",
       "      <td>0.702537</td>\n",
       "      <td>0.603549</td>\n",
       "      <td>0.676757</td>\n",
       "      <td>0.1</td>\n",
       "      <td>0.842582</td>\n",
       "      <td>0.833290</td>\n",
       "    </tr>\n",
       "    <tr>\n",
       "      <th>4</th>\n",
       "      <td>0.175722</td>\n",
       "      <td>0.152711</td>\n",
       "      <td>0.383648</td>\n",
       "      <td>0.105322</td>\n",
       "      <td>0.453846</td>\n",
       "      <td>0.565683</td>\n",
       "      <td>0.512428</td>\n",
       "      <td>0.1</td>\n",
       "      <td>0.175794</td>\n",
       "      <td>0.244576</td>\n",
       "    </tr>\n",
       "    <tr>\n",
       "      <th>...</th>\n",
       "      <td>...</td>\n",
       "      <td>...</td>\n",
       "      <td>...</td>\n",
       "      <td>...</td>\n",
       "      <td>...</td>\n",
       "      <td>...</td>\n",
       "      <td>...</td>\n",
       "      <td>...</td>\n",
       "      <td>...</td>\n",
       "      <td>...</td>\n",
       "    </tr>\n",
       "    <tr>\n",
       "      <th>995</th>\n",
       "      <td>0.584429</td>\n",
       "      <td>0.355310</td>\n",
       "      <td>0.921676</td>\n",
       "      <td>0.972868</td>\n",
       "      <td>0.492341</td>\n",
       "      <td>0.790415</td>\n",
       "      <td>0.525211</td>\n",
       "      <td>0.1</td>\n",
       "      <td>0.763910</td>\n",
       "      <td>0.743181</td>\n",
       "    </tr>\n",
       "    <tr>\n",
       "      <th>996</th>\n",
       "      <td>0.414681</td>\n",
       "      <td>0.837879</td>\n",
       "      <td>0.989905</td>\n",
       "      <td>0.760679</td>\n",
       "      <td>0.750566</td>\n",
       "      <td>0.798436</td>\n",
       "      <td>0.714419</td>\n",
       "      <td>0.1</td>\n",
       "      <td>0.957717</td>\n",
       "      <td>0.945660</td>\n",
       "    </tr>\n",
       "    <tr>\n",
       "      <th>997</th>\n",
       "      <td>0.581330</td>\n",
       "      <td>0.468711</td>\n",
       "      <td>0.819242</td>\n",
       "      <td>0.929126</td>\n",
       "      <td>0.553142</td>\n",
       "      <td>0.294993</td>\n",
       "      <td>0.570373</td>\n",
       "      <td>0.1</td>\n",
       "      <td>0.620846</td>\n",
       "      <td>0.730587</td>\n",
       "    </tr>\n",
       "    <tr>\n",
       "      <th>998</th>\n",
       "      <td>0.954786</td>\n",
       "      <td>0.222480</td>\n",
       "      <td>0.154959</td>\n",
       "      <td>0.179710</td>\n",
       "      <td>0.527963</td>\n",
       "      <td>0.656310</td>\n",
       "      <td>0.576103</td>\n",
       "      <td>0.1</td>\n",
       "      <td>0.102900</td>\n",
       "      <td>0.226525</td>\n",
       "    </tr>\n",
       "    <tr>\n",
       "      <th>999</th>\n",
       "      <td>0.727036</td>\n",
       "      <td>0.995976</td>\n",
       "      <td>0.280673</td>\n",
       "      <td>0.152799</td>\n",
       "      <td>0.520766</td>\n",
       "      <td>0.457715</td>\n",
       "      <td>0.471876</td>\n",
       "      <td>0.1</td>\n",
       "      <td>0.136464</td>\n",
       "      <td>0.337718</td>\n",
       "    </tr>\n",
       "  </tbody>\n",
       "</table>\n",
       "<p>1000 rows × 10 columns</p>\n",
       "</div>"
      ],
      "text/plain": [
       "          #v1        v2        v3        v4        v5        v6        v7  \\\n",
       "0    0.886901  0.344035  0.972501  0.870515  0.437269  0.904911  0.473432   \n",
       "1    0.587111  0.952779  0.521042  0.183067  0.534256  0.772721  0.490698   \n",
       "2    0.258751  0.536037  0.314595  0.222612  0.548518  0.719537  0.556495   \n",
       "3    0.138854  0.779587  0.932662  0.821132  0.702537  0.603549  0.676757   \n",
       "4    0.175722  0.152711  0.383648  0.105322  0.453846  0.565683  0.512428   \n",
       "..        ...       ...       ...       ...       ...       ...       ...   \n",
       "995  0.584429  0.355310  0.921676  0.972868  0.492341  0.790415  0.525211   \n",
       "996  0.414681  0.837879  0.989905  0.760679  0.750566  0.798436  0.714419   \n",
       "997  0.581330  0.468711  0.819242  0.929126  0.553142  0.294993  0.570373   \n",
       "998  0.954786  0.222480  0.154959  0.179710  0.527963  0.656310  0.576103   \n",
       "999  0.727036  0.995976  0.280673  0.152799  0.520766  0.457715  0.471876   \n",
       "\n",
       "      v8        v9         z  \n",
       "0    0.1  0.846795  0.771958  \n",
       "1    0.1  0.296277  0.415596  \n",
       "2    1.0  0.147048  0.313895  \n",
       "3    0.1  0.842582  0.833290  \n",
       "4    0.1  0.175794  0.244576  \n",
       "..   ...       ...       ...  \n",
       "995  0.1  0.763910  0.743181  \n",
       "996  0.1  0.957717  0.945660  \n",
       "997  0.1  0.620846  0.730587  \n",
       "998  0.1  0.102900  0.226525  \n",
       "999  0.1  0.136464  0.337718  \n",
       "\n",
       "[1000 rows x 10 columns]"
      ]
     },
     "execution_count": 16,
     "metadata": {},
     "output_type": "execute_result"
    }
   ],
   "source": [
    "columns= df2.columns\n",
    "for col in columns:\n",
    "    df2[col]=norm(df2[col])\n",
    "df2"
   ]
  },
  {
   "cell_type": "markdown",
   "metadata": {},
   "source": [
    "### Creation of training and test datasets"
   ]
  },
  {
   "cell_type": "code",
   "execution_count": 17,
   "metadata": {},
   "outputs": [],
   "source": [
    "#separate the other attributes from the predicting attribute\n",
    "x2 = df2.drop('z', axis=1)\n",
    "#separte the predicting attribute into Y for model training \n",
    "y2 = df2['z']"
   ]
  },
  {
   "cell_type": "code",
   "execution_count": 18,
   "metadata": {},
   "outputs": [],
   "source": [
    "# splitting the data\n",
    "x2_train, x2_test, y2_train, y2_test = train_test_split(x2, y2, test_size = 0.2, random_state=42)"
   ]
  },
  {
   "cell_type": "markdown",
   "metadata": {},
   "source": [
    "### Prediction"
   ]
  },
  {
   "cell_type": "code",
   "execution_count": 19,
   "metadata": {},
   "outputs": [
    {
     "data": {
      "text/plain": [
       "LinearRegression(copy_X=True, fit_intercept=True, n_jobs=None, normalize=False)"
      ]
     },
     "execution_count": 19,
     "metadata": {},
     "output_type": "execute_result"
    }
   ],
   "source": [
    "# creating an object of LinearRegression class\n",
    "LR2 = LinearRegression()\n",
    "# fitting the training data\n",
    "LR2.fit(x2_train,y2_train)"
   ]
  },
  {
   "cell_type": "code",
   "execution_count": 20,
   "metadata": {},
   "outputs": [
    {
     "data": {
      "text/plain": [
       "array([0.53694937, 0.3326174 , 0.31320402, 0.90193933, 0.31378402,\n",
       "       0.83127054, 0.89246857, 0.31288084, 0.57273629, 0.54240888,\n",
       "       0.59691975, 0.7989518 , 0.19513202, 0.62014003, 0.83681037,\n",
       "       0.50354933, 0.7315881 , 0.87565331, 0.54932697, 0.32081058,\n",
       "       0.40493693, 0.2500696 , 0.68437537, 0.29603701, 0.46866805,\n",
       "       0.60636177, 0.26184775, 0.79414439, 0.22259482, 0.93425203,\n",
       "       0.80430096, 0.3202553 , 0.2886946 , 0.55090739, 0.42669153,\n",
       "       0.27898658, 0.30194851, 0.61626646, 0.57329515, 0.36445818,\n",
       "       0.28110785, 0.47525555, 0.49427783, 0.77818266, 0.36974263,\n",
       "       0.54815476, 0.30212511, 0.27142273, 0.71549145, 0.76835901,\n",
       "       0.49548001, 0.64051481, 0.72941995, 0.39606984, 0.44272654,\n",
       "       0.25886983, 0.3595226 , 0.33796083, 0.58514583, 0.91480233,\n",
       "       0.34478581, 0.24030596, 0.68845774, 0.44972537, 0.65219566,\n",
       "       0.31381315, 0.22841135, 0.36059973, 0.59634685, 0.57246162,\n",
       "       0.80647188, 0.35528517, 0.87398001, 0.40892964, 0.35799253,\n",
       "       0.53912747, 0.27900193, 0.7566485 , 0.29609495, 0.34523404,\n",
       "       0.68223086, 0.54866067, 0.33428194, 0.43507869, 0.58214647,\n",
       "       0.34157451, 0.19585988, 0.55710534, 0.53443723, 0.6863491 ,\n",
       "       0.44398404, 0.30072089, 0.32529853, 0.50737542, 0.68770969,\n",
       "       0.52994333, 0.88018032, 0.58223633, 0.50233714, 0.36615805,\n",
       "       0.31248209, 0.62703049, 0.3013984 , 0.71900295, 0.27388702,\n",
       "       0.34511292, 0.2271771 , 0.42850536, 0.34953787, 0.91068008,\n",
       "       0.25481059, 0.28132699, 0.59382634, 0.74969011, 0.1996637 ,\n",
       "       0.70803818, 0.53778701, 0.27685062, 0.81392545, 0.28968899,\n",
       "       0.3484118 , 0.31969456, 0.71726206, 0.35543445, 0.28368436,\n",
       "       0.55625459, 0.82912558, 0.28237709, 0.33460882, 0.92391717,\n",
       "       0.78511881, 0.6027465 , 0.87828564, 0.74448196, 0.67955385,\n",
       "       0.65162961, 0.80106046, 0.35788509, 0.23227282, 0.39927738,\n",
       "       0.94514103, 0.3302186 , 0.43090438, 0.46116955, 0.78973134,\n",
       "       0.34087956, 0.2446052 , 0.81199599, 0.31488233, 0.27722969,\n",
       "       0.80395348, 0.28681045, 0.21382858, 0.31315321, 0.55350581,\n",
       "       0.69344741, 0.60851123, 0.34304447, 0.24344479, 0.59590665,\n",
       "       0.38119335, 0.41904889, 0.61068131, 0.60207907, 0.79713312,\n",
       "       0.19433478, 0.26624334, 0.26285695, 0.80702717, 0.28584197,\n",
       "       0.53732704, 0.57579066, 0.35414799, 0.4429715 , 0.66298134,\n",
       "       0.88089206, 0.60403048, 0.58727685, 0.7593283 , 0.60428173,\n",
       "       0.65810931, 0.88524218, 0.30596128, 0.33156862, 0.36561285,\n",
       "       0.72591395, 0.29938954, 0.75855775, 0.85560476, 0.68650592,\n",
       "       0.23172949, 0.39755305, 0.31243686, 0.7293549 , 0.25777232,\n",
       "       0.34844142, 0.85895831, 0.42256759, 0.37260818, 0.67614504])"
      ]
     },
     "execution_count": 20,
     "metadata": {},
     "output_type": "execute_result"
    }
   ],
   "source": [
    "y2_prediction =  LR2.predict(x2_test)\n",
    "y2_prediction"
   ]
  },
  {
   "cell_type": "markdown",
   "metadata": {},
   "source": [
    "### Cross validation"
   ]
  },
  {
   "cell_type": "code",
   "execution_count": 21,
   "metadata": {
    "scrolled": false
   },
   "outputs": [
    {
     "data": {
      "text/plain": [
       "array([0.9720814 , 0.97437945, 0.97300237, 0.97219717, 0.97691594])"
      ]
     },
     "execution_count": 21,
     "metadata": {},
     "output_type": "execute_result"
    }
   ],
   "source": [
    "scores2 = cross_val_score(LR2, x2, y2, cv=5)\n",
    "scores2"
   ]
  },
  {
   "cell_type": "code",
   "execution_count": 22,
   "metadata": {},
   "outputs": [
    {
     "name": "stdout",
     "output_type": "stream",
     "text": [
      "0.97 accuracy with a standard deviation of 0.00\n"
     ]
    }
   ],
   "source": [
    "print(\"%0.2f accuracy with a standard deviation of %0.2f\" % (scores2.mean(), scores2.std()))"
   ]
  },
  {
   "cell_type": "markdown",
   "metadata": {},
   "source": [
    "### Relative Absolute Error"
   ]
  },
  {
   "cell_type": "code",
   "execution_count": 23,
   "metadata": {},
   "outputs": [
    {
     "name": "stdout",
     "output_type": "stream",
     "text": [
      "Error rate MLR :  5.56435656503143 %\n"
     ]
    }
   ],
   "source": [
    "error_rate2 = 100 * ((sum(abs(y2_prediction-y2_test)))/sum(y2_test));\n",
    "print(\"Error rate MLR : \",error_rate2 , \"%\")"
   ]
  },
  {
   "cell_type": "markdown",
   "metadata": {},
   "source": [
    "### Creation of the Dataset"
   ]
  },
  {
   "cell_type": "code",
   "execution_count": 24,
   "metadata": {},
   "outputs": [],
   "source": [
    "dataset2 = pd.DataFrame({'prediction' : y2_prediction, 'real_value' : y2_test})"
   ]
  },
  {
   "cell_type": "code",
   "execution_count": 25,
   "metadata": {},
   "outputs": [],
   "source": [
    "dataset2.to_csv('Prediction_datasets/A1-synthetic_Results.csv',index=False)"
   ]
  },
  {
   "cell_type": "code",
   "execution_count": 26,
   "metadata": {},
   "outputs": [
    {
     "data": {
      "text/plain": [
       "<function matplotlib.pyplot.show(*args, **kw)>"
      ]
     },
     "execution_count": 26,
     "metadata": {},
     "output_type": "execute_result"
    },
    {
     "data": {
      "image/png": "[encoded data removed]",
      "text/plain": [
       "<Figure size 432x288 with 1 Axes>"
      ]
     },
     "metadata": {
      "needs_background": "light"
     },
     "output_type": "display_data"
    }
   ],
   "source": [
    "plt.scatter(y2_prediction,y2_test)\n",
    "plt.plot( [0,1],[0,1] )\n",
    "plt.xlabel('Predicted')\n",
    "plt.ylabel('Real')\n",
    "plt.title('MLR Scatter plot: Synthetic dataset')\n",
    "plt.show"
   ]
  },
  {
   "cell_type": "markdown",
   "metadata": {},
   "source": [
    "# Dataset insurance_dataset_1"
   ]
  },
  {
   "cell_type": "code",
   "execution_count": 27,
   "metadata": {
    "scrolled": true
   },
   "outputs": [
    {
     "data": {
      "text/html": [
       "<div>\n",
       "<style scoped>\n",
       "    .dataframe tbody tr th:only-of-type {\n",
       "        vertical-align: middle;\n",
       "    }\n",
       "\n",
       "    .dataframe tbody tr th {\n",
       "        vertical-align: top;\n",
       "    }\n",
       "\n",
       "    .dataframe thead th {\n",
       "        text-align: right;\n",
       "    }\n",
       "</style>\n",
       "<table border=\"1\" class=\"dataframe\">\n",
       "  <thead>\n",
       "    <tr style=\"text-align: right;\">\n",
       "      <th></th>\n",
       "      <th>age</th>\n",
       "      <th>bmi</th>\n",
       "      <th>children</th>\n",
       "      <th>smoker</th>\n",
       "      <th>charges</th>\n",
       "      <th>IsFemale</th>\n",
       "      <th>IsMale</th>\n",
       "    </tr>\n",
       "  </thead>\n",
       "  <tbody>\n",
       "    <tr>\n",
       "      <th>0</th>\n",
       "      <td>0.021739</td>\n",
       "      <td>0.387788</td>\n",
       "      <td>0.0</td>\n",
       "      <td>1</td>\n",
       "      <td>0.472641</td>\n",
       "      <td>1</td>\n",
       "      <td>0</td>\n",
       "    </tr>\n",
       "    <tr>\n",
       "      <th>1</th>\n",
       "      <td>0.000000</td>\n",
       "      <td>0.578435</td>\n",
       "      <td>0.2</td>\n",
       "      <td>0</td>\n",
       "      <td>0.018101</td>\n",
       "      <td>0</td>\n",
       "      <td>1</td>\n",
       "    </tr>\n",
       "    <tr>\n",
       "      <th>2</th>\n",
       "      <td>0.217391</td>\n",
       "      <td>0.553426</td>\n",
       "      <td>0.6</td>\n",
       "      <td>0</td>\n",
       "      <td>0.099775</td>\n",
       "      <td>0</td>\n",
       "      <td>1</td>\n",
       "    </tr>\n",
       "    <tr>\n",
       "      <th>3</th>\n",
       "      <td>0.326087</td>\n",
       "      <td>0.219065</td>\n",
       "      <td>0.0</td>\n",
       "      <td>0</td>\n",
       "      <td>0.625547</td>\n",
       "      <td>0</td>\n",
       "      <td>1</td>\n",
       "    </tr>\n",
       "    <tr>\n",
       "      <th>4</th>\n",
       "      <td>0.304348</td>\n",
       "      <td>0.419617</td>\n",
       "      <td>0.0</td>\n",
       "      <td>0</td>\n",
       "      <td>0.082306</td>\n",
       "      <td>0</td>\n",
       "      <td>1</td>\n",
       "    </tr>\n",
       "    <tr>\n",
       "      <th>...</th>\n",
       "      <td>...</td>\n",
       "      <td>...</td>\n",
       "      <td>...</td>\n",
       "      <td>...</td>\n",
       "      <td>...</td>\n",
       "      <td>...</td>\n",
       "      <td>...</td>\n",
       "    </tr>\n",
       "    <tr>\n",
       "      <th>1188</th>\n",
       "      <td>0.695652</td>\n",
       "      <td>0.487496</td>\n",
       "      <td>0.6</td>\n",
       "      <td>0</td>\n",
       "      <td>0.284210</td>\n",
       "      <td>0</td>\n",
       "      <td>1</td>\n",
       "    </tr>\n",
       "    <tr>\n",
       "      <th>1189</th>\n",
       "      <td>0.000000</td>\n",
       "      <td>0.518350</td>\n",
       "      <td>0.0</td>\n",
       "      <td>0</td>\n",
       "      <td>0.032506</td>\n",
       "      <td>1</td>\n",
       "      <td>0</td>\n",
       "    </tr>\n",
       "    <tr>\n",
       "      <th>1190</th>\n",
       "      <td>0.000000</td>\n",
       "      <td>0.678467</td>\n",
       "      <td>0.0</td>\n",
       "      <td>0</td>\n",
       "      <td>0.015231</td>\n",
       "      <td>1</td>\n",
       "      <td>0</td>\n",
       "    </tr>\n",
       "    <tr>\n",
       "      <th>1191</th>\n",
       "      <td>0.065217</td>\n",
       "      <td>0.319584</td>\n",
       "      <td>0.0</td>\n",
       "      <td>0</td>\n",
       "      <td>0.026568</td>\n",
       "      <td>1</td>\n",
       "      <td>0</td>\n",
       "    </tr>\n",
       "    <tr>\n",
       "      <th>1192</th>\n",
       "      <td>0.934783</td>\n",
       "      <td>0.425788</td>\n",
       "      <td>0.0</td>\n",
       "      <td>1</td>\n",
       "      <td>0.840140</td>\n",
       "      <td>1</td>\n",
       "      <td>0</td>\n",
       "    </tr>\n",
       "  </tbody>\n",
       "</table>\n",
       "<p>1193 rows × 7 columns</p>\n",
       "</div>"
      ],
      "text/plain": [
       "           age       bmi  children  smoker   charges  IsFemale  IsMale\n",
       "0     0.021739  0.387788       0.0       1  0.472641         1       0\n",
       "1     0.000000  0.578435       0.2       0  0.018101         0       1\n",
       "2     0.217391  0.553426       0.6       0  0.099775         0       1\n",
       "3     0.326087  0.219065       0.0       0  0.625547         0       1\n",
       "4     0.304348  0.419617       0.0       0  0.082306         0       1\n",
       "...        ...       ...       ...     ...       ...       ...     ...\n",
       "1188  0.695652  0.487496       0.6       0  0.284210         0       1\n",
       "1189  0.000000  0.518350       0.0       0  0.032506         1       0\n",
       "1190  0.000000  0.678467       0.0       0  0.015231         1       0\n",
       "1191  0.065217  0.319584       0.0       0  0.026568         1       0\n",
       "1192  0.934783  0.425788       0.0       1  0.840140         1       0\n",
       "\n",
       "[1193 rows x 7 columns]"
      ]
     },
     "execution_count": 27,
     "metadata": {},
     "output_type": "execute_result"
    }
   ],
   "source": [
    "df = pd.read_csv('Normalized_datasets/insurance_dataset_1.csv')\n",
    "df"
   ]
  },
  {
   "cell_type": "markdown",
   "metadata": {},
   "source": [
    "### Data normalization"
   ]
  },
  {
   "cell_type": "code",
   "execution_count": 28,
   "metadata": {},
   "outputs": [
    {
     "data": {
      "text/html": [
       "<div>\n",
       "<style scoped>\n",
       "    .dataframe tbody tr th:only-of-type {\n",
       "        vertical-align: middle;\n",
       "    }\n",
       "\n",
       "    .dataframe tbody tr th {\n",
       "        vertical-align: top;\n",
       "    }\n",
       "\n",
       "    .dataframe thead th {\n",
       "        text-align: right;\n",
       "    }\n",
       "</style>\n",
       "<table border=\"1\" class=\"dataframe\">\n",
       "  <thead>\n",
       "    <tr style=\"text-align: right;\">\n",
       "      <th></th>\n",
       "      <th>age</th>\n",
       "      <th>bmi</th>\n",
       "      <th>children</th>\n",
       "      <th>smoker</th>\n",
       "      <th>charges</th>\n",
       "      <th>IsFemale</th>\n",
       "      <th>IsMale</th>\n",
       "    </tr>\n",
       "  </thead>\n",
       "  <tbody>\n",
       "    <tr>\n",
       "      <th>0</th>\n",
       "      <td>0.119565</td>\n",
       "      <td>0.449009</td>\n",
       "      <td>0.10</td>\n",
       "      <td>1.0</td>\n",
       "      <td>0.525377</td>\n",
       "      <td>1.0</td>\n",
       "      <td>0.1</td>\n",
       "    </tr>\n",
       "    <tr>\n",
       "      <th>1</th>\n",
       "      <td>0.100000</td>\n",
       "      <td>0.620591</td>\n",
       "      <td>0.28</td>\n",
       "      <td>0.1</td>\n",
       "      <td>0.116291</td>\n",
       "      <td>0.1</td>\n",
       "      <td>1.0</td>\n",
       "    </tr>\n",
       "    <tr>\n",
       "      <th>2</th>\n",
       "      <td>0.295652</td>\n",
       "      <td>0.598084</td>\n",
       "      <td>0.64</td>\n",
       "      <td>0.1</td>\n",
       "      <td>0.189797</td>\n",
       "      <td>0.1</td>\n",
       "      <td>1.0</td>\n",
       "    </tr>\n",
       "    <tr>\n",
       "      <th>3</th>\n",
       "      <td>0.393478</td>\n",
       "      <td>0.297158</td>\n",
       "      <td>0.10</td>\n",
       "      <td>0.1</td>\n",
       "      <td>0.662992</td>\n",
       "      <td>0.1</td>\n",
       "      <td>1.0</td>\n",
       "    </tr>\n",
       "    <tr>\n",
       "      <th>4</th>\n",
       "      <td>0.373913</td>\n",
       "      <td>0.477655</td>\n",
       "      <td>0.10</td>\n",
       "      <td>0.1</td>\n",
       "      <td>0.174075</td>\n",
       "      <td>0.1</td>\n",
       "      <td>1.0</td>\n",
       "    </tr>\n",
       "    <tr>\n",
       "      <th>...</th>\n",
       "      <td>...</td>\n",
       "      <td>...</td>\n",
       "      <td>...</td>\n",
       "      <td>...</td>\n",
       "      <td>...</td>\n",
       "      <td>...</td>\n",
       "      <td>...</td>\n",
       "    </tr>\n",
       "    <tr>\n",
       "      <th>1188</th>\n",
       "      <td>0.726087</td>\n",
       "      <td>0.538746</td>\n",
       "      <td>0.64</td>\n",
       "      <td>0.1</td>\n",
       "      <td>0.355789</td>\n",
       "      <td>0.1</td>\n",
       "      <td>1.0</td>\n",
       "    </tr>\n",
       "    <tr>\n",
       "      <th>1189</th>\n",
       "      <td>0.100000</td>\n",
       "      <td>0.566515</td>\n",
       "      <td>0.10</td>\n",
       "      <td>0.1</td>\n",
       "      <td>0.129255</td>\n",
       "      <td>1.0</td>\n",
       "      <td>0.1</td>\n",
       "    </tr>\n",
       "    <tr>\n",
       "      <th>1190</th>\n",
       "      <td>0.100000</td>\n",
       "      <td>0.710620</td>\n",
       "      <td>0.10</td>\n",
       "      <td>0.1</td>\n",
       "      <td>0.113708</td>\n",
       "      <td>1.0</td>\n",
       "      <td>0.1</td>\n",
       "    </tr>\n",
       "    <tr>\n",
       "      <th>1191</th>\n",
       "      <td>0.158696</td>\n",
       "      <td>0.387626</td>\n",
       "      <td>0.10</td>\n",
       "      <td>0.1</td>\n",
       "      <td>0.123911</td>\n",
       "      <td>1.0</td>\n",
       "      <td>0.1</td>\n",
       "    </tr>\n",
       "    <tr>\n",
       "      <th>1192</th>\n",
       "      <td>0.941304</td>\n",
       "      <td>0.483209</td>\n",
       "      <td>0.10</td>\n",
       "      <td>1.0</td>\n",
       "      <td>0.856126</td>\n",
       "      <td>1.0</td>\n",
       "      <td>0.1</td>\n",
       "    </tr>\n",
       "  </tbody>\n",
       "</table>\n",
       "<p>1193 rows × 7 columns</p>\n",
       "</div>"
      ],
      "text/plain": [
       "           age       bmi  children  smoker   charges  IsFemale  IsMale\n",
       "0     0.119565  0.449009      0.10     1.0  0.525377       1.0     0.1\n",
       "1     0.100000  0.620591      0.28     0.1  0.116291       0.1     1.0\n",
       "2     0.295652  0.598084      0.64     0.1  0.189797       0.1     1.0\n",
       "3     0.393478  0.297158      0.10     0.1  0.662992       0.1     1.0\n",
       "4     0.373913  0.477655      0.10     0.1  0.174075       0.1     1.0\n",
       "...        ...       ...       ...     ...       ...       ...     ...\n",
       "1188  0.726087  0.538746      0.64     0.1  0.355789       0.1     1.0\n",
       "1189  0.100000  0.566515      0.10     0.1  0.129255       1.0     0.1\n",
       "1190  0.100000  0.710620      0.10     0.1  0.113708       1.0     0.1\n",
       "1191  0.158696  0.387626      0.10     0.1  0.123911       1.0     0.1\n",
       "1192  0.941304  0.483209      0.10     1.0  0.856126       1.0     0.1\n",
       "\n",
       "[1193 rows x 7 columns]"
      ]
     },
     "execution_count": 28,
     "metadata": {},
     "output_type": "execute_result"
    }
   ],
   "source": [
    "columns= df.columns\n",
    "for col in columns:\n",
    "    df[col]=norm(df[col])\n",
    "df"
   ]
  },
  {
   "cell_type": "markdown",
   "metadata": {},
   "source": [
    "### Creation of training and test datasets"
   ]
  },
  {
   "cell_type": "code",
   "execution_count": 29,
   "metadata": {},
   "outputs": [],
   "source": [
    "#separate the other attributes from the predicting attribute\n",
    "x = df.drop(['charges'], axis=1)\n",
    "#separte the predicting attribute into Y for model training \n",
    "y = df['charges']"
   ]
  },
  {
   "cell_type": "code",
   "execution_count": 30,
   "metadata": {},
   "outputs": [],
   "source": [
    "# splitting the data\n",
    "x_train, x_test, y_train, y_test = train_test_split(x, y, test_size = 0.2, random_state=42)"
   ]
  },
  {
   "cell_type": "markdown",
   "metadata": {},
   "source": [
    "### Prediction"
   ]
  },
  {
   "cell_type": "code",
   "execution_count": 31,
   "metadata": {},
   "outputs": [
    {
     "data": {
      "text/plain": [
       "LinearRegression(copy_X=True, fit_intercept=True, n_jobs=None, normalize=False)"
      ]
     },
     "execution_count": 31,
     "metadata": {},
     "output_type": "execute_result"
    }
   ],
   "source": [
    "# creating an object of LinearRegression class\n",
    "LR = LinearRegression()\n",
    "# fitting the training data\n",
    "LR.fit(x_train,y_train)"
   ]
  },
  {
   "cell_type": "code",
   "execution_count": 32,
   "metadata": {},
   "outputs": [
    {
     "data": {
      "text/plain": [
       "array([0.31584516, 0.2226819 , 0.13488017, 0.24547929, 0.14521793,\n",
       "       0.32242793, 0.38604988, 0.42636653, 0.15179607, 0.74966747,\n",
       "       0.19559101, 0.72223897, 0.6557566 , 0.40484208, 0.22631209,\n",
       "       0.17700314, 0.15596219, 0.72618263, 0.21499753, 0.63422551,\n",
       "       0.39063464, 0.23140854, 0.34806639, 0.13941172, 0.12440564,\n",
       "       0.41617209, 0.19879016, 0.20035285, 0.26835537, 0.40800964,\n",
       "       0.25312118, 0.2529614 , 0.39677236, 0.19637213, 0.34020996,\n",
       "       0.29417924, 0.20426762, 0.17260187, 0.58879496, 0.45712172,\n",
       "       0.32629213, 0.20949334, 0.43559049, 0.14155639, 0.16495286,\n",
       "       0.44539317, 0.2278195 , 0.42085469, 0.38785722, 0.1484651 ,\n",
       "       0.7693411 , 0.20086692, 0.81466539, 0.64196679, 0.35267362,\n",
       "       0.37408702, 0.26184574, 0.26689245, 0.24557489, 0.36707497,\n",
       "       0.38490982, 0.43665688, 0.42781648, 0.20232375, 0.22607301,\n",
       "       0.46736876, 0.69083741, 0.17860268, 0.25694428, 0.15500161,\n",
       "       0.44243049, 0.39122633, 0.8547099 , 0.28125203, 0.40198032,\n",
       "       0.69945362, 0.14317985, 0.34969472, 0.35827696, 0.44878135,\n",
       "       0.26272485, 0.1639539 , 0.40668037, 0.35968058, 0.37005726,\n",
       "       0.29449624, 0.37838906, 0.22545692, 0.18482404, 0.16661835,\n",
       "       0.39069587, 0.23442396, 0.17040417, 0.30271299, 0.13581048,\n",
       "       0.34409416, 0.42366517, 0.15891353, 0.17102381, 0.25964942,\n",
       "       0.29440613, 0.14502116, 0.22317805, 0.32088339, 0.44680513,\n",
       "       0.40934645, 0.46579115, 0.35244133, 0.35630931, 0.29977664,\n",
       "       0.27193129, 0.35880973, 0.37587574, 0.42708253, 0.40233547,\n",
       "       0.15021098, 0.2938566 , 0.38276834, 0.25915126, 0.17678313,\n",
       "       0.29780705, 0.77334082, 0.19958734, 0.32839276, 0.17673812,\n",
       "       0.19033834, 0.70044958, 0.37876114, 0.34453256, 0.3382475 ,\n",
       "       0.62649813, 0.1677703 , 0.15927207, 0.37305793, 0.41185923,\n",
       "       0.38583689, 0.25493207, 0.36264001, 0.32972054, 0.74262175,\n",
       "       0.59986317, 0.37769746, 0.80033069, 0.28380659, 0.5621489 ,\n",
       "       0.18591922, 0.36702237, 0.40673498, 0.75595331, 0.65787213,\n",
       "       0.39525609, 0.16607509, 0.34927818, 0.64049475, 0.21519754,\n",
       "       0.39337491, 0.34573616, 0.22588102, 0.22639543, 0.21038435,\n",
       "       0.25644565, 0.33649829, 0.16896225, 0.29707234, 0.12566246,\n",
       "       0.37460959, 0.42952666, 0.37514019, 0.31079567, 0.21749455,\n",
       "       0.43962635, 0.88781895, 0.24716261, 0.6769784 , 0.16791246,\n",
       "       0.27210512, 0.33331166, 0.36968165, 0.38874026, 0.86736552,\n",
       "       0.42065993, 0.1670308 , 0.43935876, 0.42387398, 0.23999503,\n",
       "       0.17058881, 0.23593523, 0.13531099, 0.1280004 , 0.62078304,\n",
       "       0.55691259, 0.20182318, 0.37782194, 0.6010098 , 0.32269188,\n",
       "       0.68867214, 0.18812094, 0.34407393, 0.24587336, 0.30701311,\n",
       "       0.37816249, 0.22841179, 0.55878457, 0.35756952, 0.12954479,\n",
       "       0.38670419, 0.3175284 , 0.42254002, 0.79613458, 0.16646708,\n",
       "       0.19244679, 0.4041869 , 0.34811272, 0.22073291, 0.19913102,\n",
       "       0.73762276, 0.34690077, 0.36605693, 0.24673203, 0.78443367,\n",
       "       0.7231279 , 0.34225315, 0.2255329 , 0.4033959 , 0.59464943,\n",
       "       0.27518905, 0.15974345, 0.14153992, 0.3170823 , 0.34978824,\n",
       "       0.32407542, 0.25160528, 0.79969931, 0.18418454, 0.2084394 ,\n",
       "       0.5424141 , 0.36435385, 0.68905098, 0.3930583 ])"
      ]
     },
     "execution_count": 32,
     "metadata": {},
     "output_type": "execute_result"
    }
   ],
   "source": [
    "y_prediction =  LR.predict(x_test)\n",
    "y_prediction"
   ]
  },
  {
   "cell_type": "markdown",
   "metadata": {},
   "source": [
    "### Cross validation"
   ]
  },
  {
   "cell_type": "code",
   "execution_count": 33,
   "metadata": {},
   "outputs": [
    {
     "data": {
      "text/plain": [
       "array([0.66331261, 0.47935251, 0.65034148, 0.56130064, 0.60995395])"
      ]
     },
     "execution_count": 33,
     "metadata": {},
     "output_type": "execute_result"
    }
   ],
   "source": [
    "scores = cross_val_score(LR, x, y, cv=5)\n",
    "scores"
   ]
  },
  {
   "cell_type": "code",
   "execution_count": 34,
   "metadata": {},
   "outputs": [
    {
     "name": "stdout",
     "output_type": "stream",
     "text": [
      "0.59 accuracy with a standard deviation of 0.07\n"
     ]
    }
   ],
   "source": [
    "print(\"%0.2f accuracy with a standard deviation of %0.2f\" % (scores.mean(), scores.std()))"
   ]
  },
  {
   "cell_type": "markdown",
   "metadata": {},
   "source": [
    "### Relative Absolute Error"
   ]
  },
  {
   "cell_type": "code",
   "execution_count": 35,
   "metadata": {},
   "outputs": [
    {
     "name": "stdout",
     "output_type": "stream",
     "text": [
      "Error rate MLR :  20.73888490261809 %\n"
     ]
    }
   ],
   "source": [
    "error_rate = 100 * ((sum(abs(y_prediction-y_test)))/sum(y_test));\n",
    "print(\"Error rate MLR : \",error_rate , \"%\")"
   ]
  },
  {
   "cell_type": "markdown",
   "metadata": {},
   "source": [
    "### Creation of the Dataset"
   ]
  },
  {
   "cell_type": "code",
   "execution_count": 36,
   "metadata": {},
   "outputs": [],
   "source": [
    "dataset3 = pd.DataFrame({'prediction' : y_prediction, 'real_value' : y_test})"
   ]
  },
  {
   "cell_type": "code",
   "execution_count": 37,
   "metadata": {},
   "outputs": [],
   "source": [
    "dataset3.to_csv('Prediction_datasets/insurance_dataset_Results.csv',index=False)"
   ]
  },
  {
   "cell_type": "code",
   "execution_count": 38,
   "metadata": {},
   "outputs": [
    {
     "data": {
      "text/plain": [
       "<function matplotlib.pyplot.show(*args, **kw)>"
      ]
     },
     "execution_count": 38,
     "metadata": {},
     "output_type": "execute_result"
    },
    {
     "data": {
      "image/png": "[encoded data removed]",
      "text/plain": [
       "<Figure size 432x288 with 1 Axes>"
      ]
     },
     "metadata": {
      "needs_background": "light"
     },
     "output_type": "display_data"
    }
   ],
   "source": [
    "plt.scatter(y_prediction,y_test)\n",
    "plt.plot( [0,1],[0,1] )\n",
    "plt.xlabel('Predicted')\n",
    "plt.ylabel('Real')\n",
    "plt.title('MLR Scatter plot: Insurance dataset')\n",
    "plt.show"
   ]
  }
 ],
 "metadata": {
  "kernelspec": {
   "display_name": "Python 3",
   "language": "python",
   "name": "python3"
  },
  "language_info": {
   "codemirror_mode": {
    "name": "ipython",
    "version": 3
   },
   "file_extension": ".py",
   "mimetype": "text/x-python",
   "name": "python",
   "nbconvert_exporter": "python",
   "pygments_lexer": "ipython3",
   "version": "3.7.6"
  }
 },
 "nbformat": 4,
 "nbformat_minor": 4
}
